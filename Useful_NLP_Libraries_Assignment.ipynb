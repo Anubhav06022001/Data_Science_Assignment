{
 "cells": [
  {
   "cell_type": "markdown",
   "metadata": {},
   "source": [
    "# Useful NLP Libraries and Networks Assignment\n",
    "\n",
    "## Theory Questions\n",
    "### 1. What is NLTK?\n",
    "NLTK (Natural Language Toolkit) is a popular Python library for natural language processing. It provides tools for tokenization, lemmatization, stemming, parsing, classification, and other NLP tasks, making it a versatile toolkit for researchers and developers.\n",
    "\n",
    "### 2. What is SpaCy and how does it differ from NLTK?\n",
    "SpaCy is a modern NLP library designed for speed and efficiency. Unlike NLTK, which focuses on education and research, SpaCy is built for industrial applications, offering fast tokenization, named entity recognition (NER), dependency parsing, and word vectors.\n",
    "\n",
    "### 3. What is the purpose of TextBlob in NLP?\n",
    "TextBlob is a simple NLP library that provides easy-to-use tools for common text processing tasks like sentiment analysis, tokenization, noun phrase extraction, and text classification. It is often used for prototyping and quick text analysis.\n",
    "\n",
    "### 4. What is Stanford NLP?\n",
    "Stanford NLP is a suite of NLP tools developed by the Stanford NLP Group. It includes tools for tasks like tokenization, part-of-speech tagging, named entity recognition, and dependency parsing, and is known for its accuracy and robustness.\n",
    "\n",
    "### 5. Explain what Recurrent Neural Networks (RNN) are.\n",
    "Recurrent Neural Networks (RNNs) are a type of neural network designed for processing sequential data. They have a feedback loop that allows them to maintain a hidden state, making them well-suited for tasks involving time-series or natural language.\n",
    "\n",
    "### 6. What is the main advantage of using LSTM over RNN?\n",
    "The main advantage of using Long Short-Term Memory (LSTM) networks over RNNs is their ability to handle long-term dependencies and avoid the vanishing gradient problem. LSTMs use specialized gate mechanisms to retain important information over long sequences.\n",
    "\n",
    "### 7. What are Bi-directional LSTMs, and how do they differ from standard LSTMs?\n",
    "Bi-directional LSTMs are a type of LSTM that process input sequences in both forward and backward directions, allowing them to capture context from both past and future states. Standard LSTMs process sequences in only one direction.\n",
    "\n",
    "### 8. What is the purpose of a Stacked LSTM?\n",
    "A Stacked LSTM consists of multiple LSTM layers stacked on top of each other. This architecture allows the model to learn more complex features and capture higher-level representations of the data, leading to better performance on challenging tasks.\n",
    "\n",
    "### 9. How does a GRU (Gated Recurrent Unit) differ from an LSTM?\n",
    "A GRU (Gated Recurrent Unit) is a simplified version of an LSTM. It has fewer gate mechanisms, combining the forget and input gates into a single update gate, which makes it computationally efficient while retaining the ability to handle long-term dependencies.\n",
    "\n",
    "### 10. What are the key features of NLTK's tokenization process?\n",
    "NLTK's tokenization process includes splitting text into sentences or words, handling punctuation, and providing different tokenization options like `word_tokenize()` for word-level tokenization and `sent_tokenize()` for sentence-level tokenization.\n",
    "\n",
    "### 11. How do you perform named entity recognition (NER) using SpaCy?\n",
    "To perform NER using SpaCy, we load a pre-trained SpaCy model (e.g., `en_core_web_sm`), pass the text to the model, and then extract named entities using the `ents` attribute of the `Doc` object.\n",
    "\n",
    "### 12. What is Word2Vec and how does it represent words?\n",
    "Word2Vec is a neural network-based model that represents words as dense vectors in a continuous vector space. It captures semantic relationships between words, where similar words are closer together in the vector space.\n",
    "\n",
    "### 13. Explain the difference between Bag of Words (BoW) and Word2Vec.\n",
    "- **Bag of Words (BoW)**: Represents text as a vector of word counts or occurrences, ignoring word order and context.\n",
    "- **Word2Vec**: Represents words as dense vectors that capture semantic relationships, preserving the meaning and context of words.\n",
    "\n",
    "### 14. How does TextBlob handle sentiment analysis?\n",
    "TextBlob handles sentiment analysis by using a predefined lexicon to determine the polarity (positive, negative, neutral) and subjectivity of a given text. It provides a simple interface to analyze the sentiment of sentences or documents.\n",
    "\n",
    "### 15. How would you implement text preprocessing using NLTK?\n",
    "Text preprocessing using NLTK involves tokenization (`word_tokenize`), removing stopwords (`stopwords`), stemming (`PorterStemmer`), lemmatization (`WordNetLemmatizer`), and text normalization (lowercasing, removing punctuation).\n",
    "\n",
    "### 16. How do you train a custom NER model using SpaCy?\n",
    "To train a custom NER model using SpaCy, you need labeled training data, create a blank SpaCy model or load a pre-trained one, and use SpaCy's `EntityRecognizer` to add new labels and train the model with the labeled data.\n",
    "\n",
    "### 17. What is the role of the attention mechanism in LSTMs and GRUs?\n",
    "The attention mechanism allows LSTMs and GRUs to focus on specific parts of the input sequence when making predictions, improving performance in tasks like machine translation and text summarization by capturing relevant information from longer sequences.\n",
    "\n",
    "### 18. What is the difference between tokenization and lemmatization in NLP?\n",
    "- **Tokenization**: The process of splitting text into individual units (words or sentences).\n",
    "- **Lemmatization**: The process of reducing words to their base or dictionary form (lemma), ensuring consistent representation of words.\n",
    "\n",
    "### 19. How do you perform text normalization in NLP?\n",
    "Text normalization in NLP involves converting text to a standard format by lowercasing, removing punctuation, expanding contractions, removing special characters, and standardizing word forms using lemmatization or stemming.\n",
    "\n",
    "### 20. What is the purpose of frequency distribution in NLP?\n",
    "Frequency distribution helps analyze how often each word appears in a text, providing insights into the importance of specific terms, identifying stopwords, and determining key topics or themes in the text.\n",
    "\n",
    "### 21. What are co-occurrence vectors in NLP?\n",
    "Co-occurrence vectors represent words based on their occurrence with other words in a given context. They capture the relationships between words, showing how often words appear together within a specific window.\n",
    "\n",
    "### 22. How is Word2Vec used to find the relationship between words?\n",
    "Word2Vec represents words as vectors, and the relationships between words can be found by calculating the similarity between their vectors using cosine similarity or other distance measures. Similar words will have similar vectors.\n",
    "\n",
    "### 23. How does a Bi-LSTM improve NLP tasks compared to a regular LSTM?\n",
    "A Bi-LSTM processes input sequences in both forward and backward directions, allowing it to capture context from both past and future words, leading to improved performance in tasks like text classification and named entity recognition.\n",
    "\n",
    "### 24. What is the difference between a GRU and an LSTM in terms of gate structures?\n",
    "A GRU has two gates (update and reset), while an LSTM has three gates (input, forget, and output). GRUs are simpler and computationally efficient, whereas LSTMs are more complex and better at capturing long-term dependencies.\n",
    "\n",
    "### 25. How does Stanford NLP’s dependency parsing work?\n",
    "Stanford NLP's dependency parsing analyzes the grammatical structure of a sentence, identifying relationships between words (e.g., subject, object) and creating a tree structure that represents syntactic dependencies.\n",
    "\n",
    "### 26. How does tokenization affect downstream NLP tasks?\n",
    "Tokenization affects downstream NLP tasks by breaking text into manageable units (words or sentences) that can be analyzed. Proper tokenization ensures that models can accurately understand and learn from the text.\n",
    "\n",
    "### 27. What are some common applications of NLP?\n",
    "Common applications of NLP include chatbots, machine translation, sentiment analysis, text summarization, speech recognition, and named entity recognition.\n",
    "\n",
    "### 28. What are stopwords and why are they removed in NLP?\n",
    "Stopwords are common words (e.g., 'the', 'is', 'and') that do not carry significant meaning. They are removed in NLP to reduce noise and focus on the more meaningful words in the text.\n",
    "\n",
    "### 29. How can you implement word embeddings using Word2Vec in Python?\n",
    "You can implement word embeddings using Word2Vec in Python with the Gensim library. First, tokenize the text, then train a Word2Vec model using `gensim.models.Word2Vec()` to obtain word vectors.\n",
    "\n",
    "### 30. How does SpaCy handle lemmatization?\n",
    "SpaCy handles lemmatization by using its built-in `lemmatizer` to reduce words to their base forms. You can access the lemma of a token using the `lemma_` attribute of the `Token`.\n",
    "\n",
    "### 31. What is the significance of RNNs in NLP tasks?\n",
    "Recurrent Neural Networks (RNNs) are crucial in Natural Language Processing (NLP) tasks because they are designed to handle sequential data. Unlike traditional neural networks, RNNs have connections that loop back on themselves, allowing them to maintain a memory of previous inputs in the sequence. This makes RNNs well-suited for tasks such as text generation, sentiment analysis, machine translation, and speech recognition, where the order of words or tokens is important.\n",
    "\n",
    "### 32. How does word embedding improve the performance of NLP models?\n",
    "Word embeddings are a type of representation that translates words into dense vectors of real numbers, capturing semantic meaning. By mapping words with similar meanings to similar vectors, embeddings allow models to generalize better by understanding relationships between words (e.g., \"king\" and \"queen\" are closer in vector space). This reduces the sparsity of one-hot encoding and helps NLP models, such as neural networks, to process text more effectively, improving performance on tasks like classification, translation, and sentiment analysis.\n",
    "\n",
    "### 33. How does a Stacked LSTM differ from a single LSTM?\n",
    "A Stacked LSTM consists of multiple LSTM layers stacked on top of one another, with each layer feeding its output into the next. This structure allows the model to learn more complex hierarchical features from the data compared to a single LSTM layer. While a single LSTM can capture temporal dependencies at a lower level, stacking multiple LSTMs allows the model to capture more abstract and high-level patterns, leading to improved performance on complex sequence tasks such as machine translation and speech recognition.\n",
    "\n",
    "### 34. What are the key differences between RNN, LSTM, and GRU?\n",
    "- **RNN**: A basic Recurrent Neural Network (RNN) has a simple architecture where the output of a neuron is fed back into the network, allowing it to learn temporal dependencies. However, RNNs suffer from the vanishing gradient problem, making them difficult to train on long sequences.\n",
    "\n",
    "- **LSTM (Long Short-Term Memory)**: LSTM is an advanced RNN architecture designed to address the vanishing gradient problem. It uses gates (input, output, and forget gates) to control the flow of information, allowing it to capture long-range dependencies more effectively.\n",
    "\n",
    "- **GRU (Gated Recurrent Unit)**: GRU is similar to LSTM but with a simplified structure, using only two gates (update and reset gates). GRUs are computationally more efficient than LSTMs while still capturing long-term dependencies.\n",
    "\n",
    "### 35. Why is the attention mechanism important in sequence-to-sequence models?\n",
    "The attention mechanism allows a sequence-to-sequence model to focus on different parts of the input sequence when generating the output, instead of relying solely on the final hidden state. This is particularly useful for long sequences, where earlier inputs may be crucial for generating later outputs. Attention helps the model to \"attend\" to relevant information in the input sequence, improving performance in tasks like machine translation and text summarization by capturing more accurate dependencies between input and output.\n",
    "\n"
   ]
  },
  {
   "cell_type": "markdown",
   "metadata": {},
   "source": [
    "# Practical"
   ]
  },
  {
   "cell_type": "markdown",
   "metadata": {},
   "source": [
    "### 1. How do you perform word tokenization using NLTK and plot a word frequency distribution?"
   ]
  },
  {
   "cell_type": "code",
   "execution_count": 1,
   "metadata": {},
   "outputs": [
    {
     "name": "stderr",
     "output_type": "stream",
     "text": [
      "[nltk_data] Downloading package punkt to\n",
      "[nltk_data]     C:\\Users\\anubh\\AppData\\Roaming\\nltk_data...\n",
      "[nltk_data]   Package punkt is already up-to-date!\n"
     ]
    },
    {
     "data": {
      "image/png": "[encoded data removed]",
      "text/plain": [
       "<Figure size 640x480 with 1 Axes>"
      ]
     },
     "metadata": {},
     "output_type": "display_data"
    }
   ],
   "source": [
    "import nltk\n",
    "import matplotlib.pyplot as plt\n",
    "from nltk.probability import FreqDist\n",
    "from nltk.tokenize import word_tokenize\n",
    "\n",
    "nltk.download('punkt')\n",
    "\n",
    "# Example text\n",
    "text = \"Natural language processing is fun. Let's tokenize this text and plot a word frequency distribution.\"\n",
    "\n",
    "# Tokenizing the text\n",
    "tokens = word_tokenize(text)\n",
    "\n",
    "# Creating the frequency distribution\n",
    "fdist = FreqDist(tokens)\n",
    "\n",
    "# Plotting the frequency distribution\n",
    "fdist.plot()\n",
    "plt.show()"
   ]
  },
  {
   "cell_type": "markdown",
   "metadata": {},
   "source": [
    "### 2. How do you use SpaCy for dependency parsing of a sentence?"
   ]
  },
  {
   "cell_type": "code",
   "execution_count": 7,
   "metadata": {},
   "outputs": [
    {
     "name": "stdout",
     "output_type": "stream",
     "text": [
      "SpaCy: nsubj (Head: is)\n",
      "is: ROOT (Head: is)\n",
      "an: det (Head: library)\n",
      "amazing: amod (Head: library)\n",
      "library: attr (Head: is)\n",
      "for: prep (Head: library)\n",
      "NLP: compound (Head: tasks)\n",
      "tasks: pobj (Head: for)\n",
      ".: punct (Head: is)\n"
     ]
    }
   ],
   "source": [
    "import spacy\n",
    "\n",
    "# Load SpaCy's English model\n",
    "nlp = spacy.load(\"en_core_web_sm\")\n",
    "\n",
    "# Process the text\n",
    "text = \"SpaCy is an amazing library for NLP tasks.\"\n",
    "doc = nlp(text)\n",
    "\n",
    "# Displaying the dependency parsing information\n",
    "for token in doc:\n",
    "    print(f\"{token.text}: {token.dep_} (Head: {token.head.text})\")"
   ]
  },
  {
   "cell_type": "markdown",
   "metadata": {},
   "source": [
    "### 3. How do you use TextBlob for performing text classification based on polarity?"
   ]
  },
  {
   "cell_type": "code",
   "execution_count": 9,
   "metadata": {},
   "outputs": [
    {
     "name": "stdout",
     "output_type": "stream",
     "text": [
      "Positive sentiment\n"
     ]
    }
   ],
   "source": [
    "# TextBlob can be used to analyze the sentiment polarity of a text and classify it as positive, negative, or neutral.\n",
    "\n",
    "from textblob import TextBlob\n",
    "\n",
    "# Sample text\n",
    "text = \"I love programming. It's so much fun!\"\n",
    "\n",
    "# Creating a TextBlob object\n",
    "blob = TextBlob(text)\n",
    "\n",
    "# Classifying polarity\n",
    "if blob.sentiment.polarity > 0:\n",
    "    print(\"Positive sentiment\")\n",
    "elif blob.sentiment.polarity < 0:\n",
    "    print(\"Negative sentiment\")\n",
    "else:\n",
    "    print(\"Neutral sentiment\")"
   ]
  },
  {
   "cell_type": "markdown",
   "metadata": {},
   "source": [
    "### 4. How do you extract named entities from a text using SpaCy?"
   ]
  },
  {
   "cell_type": "code",
   "execution_count": 10,
   "metadata": {},
   "outputs": [
    {
     "name": "stdout",
     "output_type": "stream",
     "text": [
      "Apple (ORG)\n",
      "UK (GPE)\n"
     ]
    }
   ],
   "source": [
    "# SpaCy provides an easy way to extract named entities (such as persons, locations, organizations, etc.) from a given text.\n",
    "import spacy\n",
    "\n",
    "# Load SpaCy's English model\n",
    "nlp = spacy.load(\"en_core_web_sm\")\n",
    "\n",
    "# Process the text\n",
    "text = \"Apple is looking to buy a startup in the UK.\"\n",
    "doc = nlp(text)\n",
    "\n",
    "# Extracting named entities\n",
    "for ent in doc.ents:\n",
    "    print(f\"{ent.text} ({ent.label_})\")"
   ]
  },
  {
   "cell_type": "markdown",
   "metadata": {},
   "source": [
    "### 5. How can you calculate TF-IDF scores for a given text using Scikit-learn?"
   ]
  },
  {
   "cell_type": "code",
   "execution_count": 11,
   "metadata": {},
   "outputs": [
    {
     "name": "stdout",
     "output_type": "stream",
     "text": [
      "[[0.         0.49428908 0.         0.         0.49428908 0.2919351\n",
      "  0.2919351  0.58387019]\n",
      " [0.         0.         0.52189879 0.39691748 0.         0.30824183\n",
      "  0.30824183 0.61648367]\n",
      " [0.52189879 0.         0.         0.39691748 0.         0.30824183\n",
      "  0.30824183 0.61648367]]\n",
      "['bird' 'cat' 'dog' 'log' 'mat' 'on' 'sat' 'the']\n"
     ]
    }
   ],
   "source": [
    "from sklearn.feature_extraction.text import TfidfVectorizer\n",
    "\n",
    "# Example documents\n",
    "documents = [\n",
    "    \"The cat sat on the mat.\",\n",
    "    \"The dog sat on the log.\",\n",
    "    \"The bird sat on the log.\"\n",
    "]\n",
    "\n",
    "# Creating the TF-IDF vectorizer\n",
    "vectorizer = TfidfVectorizer()\n",
    "\n",
    "# Fitting the model and transforming the documents\n",
    "tfidf_matrix = vectorizer.fit_transform(documents)\n",
    "\n",
    "# Converting the TF-IDF matrix to a dense array and displaying it\n",
    "print(tfidf_matrix.toarray())\n",
    "\n",
    "# Getting the feature names (words)\n",
    "print(vectorizer.get_feature_names_out())\n",
    " "
   ]
  },
  {
   "cell_type": "markdown",
   "metadata": {},
   "source": [
    "### 6. How do you create a custom text classifier using NLTK's Naive Bayes classifier?"
   ]
  },
  {
   "cell_type": "code",
   "execution_count": 3,
   "metadata": {},
   "outputs": [
    {
     "name": "stderr",
     "output_type": "stream",
     "text": [
      "[nltk_data] Downloading package movie_reviews to\n",
      "[nltk_data]     C:\\Users\\anubh\\AppData\\Roaming\\nltk_data...\n",
      "[nltk_data]   Unzipping corpora\\movie_reviews.zip.\n"
     ]
    },
    {
     "name": "stdout",
     "output_type": "stream",
     "text": [
      "Classifier accuracy: 0.7188888888888889\n"
     ]
    }
   ],
   "source": [
    "import nltk\n",
    "from nltk.classify import NaiveBayesClassifier\n",
    "from nltk.corpus import movie_reviews\n",
    "\n",
    "nltk.download('movie_reviews')\n",
    "\n",
    "# Feature extraction function\n",
    "def extract_features(words):\n",
    "    return {word: True for word in words}\n",
    "\n",
    "# Preparing the data\n",
    "positive_reviews = [(list(movie_reviews.words(fileid)), 'pos') for fileid in movie_reviews.fileids('pos')]\n",
    "negative_reviews = [(list(movie_reviews.words(fileid)), 'neg') for fileid in movie_reviews.fileids('neg')]\n",
    "\n",
    "# Split data into training and test sets\n",
    "train_data = positive_reviews[:100] + negative_reviews[:100]\n",
    "test_data = positive_reviews[100:] + negative_reviews[100:]\n",
    "\n",
    "# Train the Naive Bayes classifier\n",
    "classifier = NaiveBayesClassifier.train([(extract_features(words), category) for words, category in train_data])\n",
    "\n",
    "# Evaluate the classifier\n",
    "print(\"Classifier accuracy:\", nltk.classify.util.accuracy(classifier, [(extract_features(words), category) for words, category in test_data]))\n"
   ]
  },
  {
   "cell_type": "markdown",
   "metadata": {},
   "source": [
    "### 7. How do you use a pre-trained model from Hugging Face for text classification?"
   ]
  },
  {
   "cell_type": "code",
   "execution_count": 1,
   "metadata": {},
   "outputs": [
    {
     "name": "stderr",
     "output_type": "stream",
     "text": [
      "No model was supplied, defaulted to distilbert/distilbert-base-uncased-finetuned-sst-2-english and revision 714eb0f (https://huggingface.co/distilbert/distilbert-base-uncased-finetuned-sst-2-english).\n",
      "Using a pipeline without specifying a model name and revision in production is not recommended.\n"
     ]
    },
    {
     "data": {
      "application/vnd.jupyter.widget-view+json": {
       "model_id": "ef098f34361d49f68bd37fd77ef95b90",
       "version_major": 2,
       "version_minor": 0
      },
      "text/plain": [
       "config.json:   0%|          | 0.00/629 [00:00<?, ?B/s]"
      ]
     },
     "metadata": {},
     "output_type": "display_data"
    },
    {
     "name": "stderr",
     "output_type": "stream",
     "text": [
      "c:\\Users\\anubh\\AppData\\Local\\Programs\\Python\\Python311\\Lib\\site-packages\\huggingface_hub\\file_download.py:140: UserWarning: `huggingface_hub` cache-system uses symlinks by default to efficiently store duplicated files but your machine does not support them in C:\\Users\\anubh\\.cache\\huggingface\\hub\\models--distilbert--distilbert-base-uncased-finetuned-sst-2-english. Caching files will still work but in a degraded version that might require more space on your disk. This warning can be disabled by setting the `HF_HUB_DISABLE_SYMLINKS_WARNING` environment variable. For more details, see https://huggingface.co/docs/huggingface_hub/how-to-cache#limitations.\n",
      "To support symlinks on Windows, you either need to activate Developer Mode or to run Python as an administrator. In order to activate developer mode, see this article: https://docs.microsoft.com/en-us/windows/apps/get-started/enable-your-device-for-development\n",
      "  warnings.warn(message)\n"
     ]
    },
    {
     "data": {
      "application/vnd.jupyter.widget-view+json": {
       "model_id": "da336541e3534c63847e214968ee5466",
       "version_major": 2,
       "version_minor": 0
      },
      "text/plain": [
       "model.safetensors:   0%|          | 0.00/268M [00:00<?, ?B/s]"
      ]
     },
     "metadata": {},
     "output_type": "display_data"
    },
    {
     "data": {
      "application/vnd.jupyter.widget-view+json": {
       "model_id": "ccb690bd7aa04d1babe56062d9642d19",
       "version_major": 2,
       "version_minor": 0
      },
      "text/plain": [
       "tokenizer_config.json:   0%|          | 0.00/48.0 [00:00<?, ?B/s]"
      ]
     },
     "metadata": {},
     "output_type": "display_data"
    },
    {
     "data": {
      "application/vnd.jupyter.widget-view+json": {
       "model_id": "c8527a3cab6542d5900a040c20aa2d57",
       "version_major": 2,
       "version_minor": 0
      },
      "text/plain": [
       "vocab.txt:   0%|          | 0.00/232k [00:00<?, ?B/s]"
      ]
     },
     "metadata": {},
     "output_type": "display_data"
    },
    {
     "name": "stderr",
     "output_type": "stream",
     "text": [
      "Device set to use cpu\n"
     ]
    },
    {
     "name": "stdout",
     "output_type": "stream",
     "text": [
      "[{'label': 'POSITIVE', 'score': 0.9969214200973511}]\n"
     ]
    }
   ],
   "source": [
    "from transformers import pipeline\n",
    "\n",
    "# Load a pre-trained text classification model\n",
    "classifier = pipeline(\"sentiment-analysis\")\n",
    "\n",
    "# Analyze a sample text\n",
    "result = classifier(\"I love using Hugging Face models for NLP tasks!\")\n",
    "\n",
    "# Print the result\n",
    "print(result)"
   ]
  },
  {
   "cell_type": "markdown",
   "metadata": {},
   "source": [
    "### 8. How do you perform text summarization using Hugging Face transformers?"
   ]
  },
  {
   "cell_type": "code",
   "execution_count": 1,
   "metadata": {},
   "outputs": [
    {
     "name": "stderr",
     "output_type": "stream",
     "text": [
      "No model was supplied, defaulted to sshleifer/distilbart-cnn-12-6 and revision a4f8f3e (https://huggingface.co/sshleifer/distilbart-cnn-12-6).\n",
      "Using a pipeline without specifying a model name and revision in production is not recommended.\n"
     ]
    },
    {
     "data": {
      "application/vnd.jupyter.widget-view+json": {
       "model_id": "12c1edae29374a1db7a7076f4fa85282",
       "version_major": 2,
       "version_minor": 0
      },
      "text/plain": [
       "config.json:   0%|          | 0.00/1.80k [00:00<?, ?B/s]"
      ]
     },
     "metadata": {},
     "output_type": "display_data"
    },
    {
     "name": "stderr",
     "output_type": "stream",
     "text": [
      "c:\\Users\\anubh\\AppData\\Local\\Programs\\Python\\Python311\\Lib\\site-packages\\huggingface_hub\\file_download.py:140: UserWarning: `huggingface_hub` cache-system uses symlinks by default to efficiently store duplicated files but your machine does not support them in C:\\Users\\anubh\\.cache\\huggingface\\hub\\models--sshleifer--distilbart-cnn-12-6. Caching files will still work but in a degraded version that might require more space on your disk. This warning can be disabled by setting the `HF_HUB_DISABLE_SYMLINKS_WARNING` environment variable. For more details, see https://huggingface.co/docs/huggingface_hub/how-to-cache#limitations.\n",
      "To support symlinks on Windows, you either need to activate Developer Mode or to run Python as an administrator. In order to activate developer mode, see this article: https://docs.microsoft.com/en-us/windows/apps/get-started/enable-your-device-for-development\n",
      "  warnings.warn(message)\n"
     ]
    },
    {
     "data": {
      "application/vnd.jupyter.widget-view+json": {
       "model_id": "19ab92e37e4a47f0a447fb9d09131744",
       "version_major": 2,
       "version_minor": 0
      },
      "text/plain": [
       "pytorch_model.bin:   0%|          | 0.00/1.22G [00:00<?, ?B/s]"
      ]
     },
     "metadata": {},
     "output_type": "display_data"
    },
    {
     "name": "stderr",
     "output_type": "stream",
     "text": [
      "Error while downloading from https://cdn-lfs.hf.co/sshleifer/distilbart-cnn-12-6/3bac65d18c99463302d12ca75c2220ea714f9c81ce235f205fa818efe71df6ea?response-content-disposition=inline%3B+filename*%3DUTF-8%27%27pytorch_model.bin%3B+filename%3D%22pytorch_model.bin%22%3B&response-content-type=application%2Foctet-stream&Expires=1734697500&Policy=eyJTdGF0ZW1lbnQiOlt7IkNvbmRpdGlvbiI6eyJEYXRlTGVzc1RoYW4iOnsiQVdTOkVwb2NoVGltZSI6MTczNDY5NzUwMH19LCJSZXNvdXJjZSI6Imh0dHBzOi8vY2RuLWxmcy5oZi5jby9zc2hsZWlmZXIvZGlzdGlsYmFydC1jbm4tMTItNi8zYmFjNjVkMThjOTk0NjMzMDJkMTJjYTc1YzIyMjBlYTcxNGY5YzgxY2UyMzVmMjA1ZmE4MThlZmU3MWRmNmVhP3Jlc3BvbnNlLWNvbnRlbnQtZGlzcG9zaXRpb249KiZyZXNwb25zZS1jb250ZW50LXR5cGU9KiJ9XX0_&Signature=RtPPDZtd7LZjFaZDGnH2UgeR%7EjucBj3PdtLKr9U%7ExNq-LSVFOKs3x538G0Mcur65FryXvXV3FVJYOfWm4g%7EwI%7Eh1jGOhGN2dgsDlpj40jeMSLc8SuyljVT-MiJnFfMbiV-10pT-0GeTy7UzKipc6v7%7EGtuvV-S9DyC1oLAuWvMIYtr50kqF7odKzoADaUu1XnZS-IHB4Bbz3FdU2VS0rKjGfIq4cinSfmDD9u9N23gK%7EzmU3Nn6-3-eUf2qlyzB7mIq7LvPdAckYwEtVrzeBaMwLAkU601KELkqrJwDV2SEBnyr3Tvh0o4RAB%7EkfZMsqLfhXGwvbm1GdtgeUiFTz4A__&Key-Pair-Id=K3RPWS32NSSJCE: HTTPSConnectionPool(host='cdn-lfs.hf.co', port=443): Read timed out.\n",
      "Trying to resume download...\n"
     ]
    },
    {
     "data": {
      "application/vnd.jupyter.widget-view+json": {
       "model_id": "01f73b6960154f8d9917d8b1910a1efa",
       "version_major": 2,
       "version_minor": 0
      },
      "text/plain": [
       "pytorch_model.bin:  27%|##6       | 325M/1.22G [00:00<?, ?B/s]"
      ]
     },
     "metadata": {},
     "output_type": "display_data"
    },
    {
     "name": "stderr",
     "output_type": "stream",
     "text": [
      "Error while downloading from https://cdn-lfs.hf.co/sshleifer/distilbart-cnn-12-6/3bac65d18c99463302d12ca75c2220ea714f9c81ce235f205fa818efe71df6ea?response-content-disposition=inline%3B+filename*%3DUTF-8%27%27pytorch_model.bin%3B+filename%3D%22pytorch_model.bin%22%3B&response-content-type=application%2Foctet-stream&Expires=1734697500&Policy=eyJTdGF0ZW1lbnQiOlt7IkNvbmRpdGlvbiI6eyJEYXRlTGVzc1RoYW4iOnsiQVdTOkVwb2NoVGltZSI6MTczNDY5NzUwMH19LCJSZXNvdXJjZSI6Imh0dHBzOi8vY2RuLWxmcy5oZi5jby9zc2hsZWlmZXIvZGlzdGlsYmFydC1jbm4tMTItNi8zYmFjNjVkMThjOTk0NjMzMDJkMTJjYTc1YzIyMjBlYTcxNGY5YzgxY2UyMzVmMjA1ZmE4MThlZmU3MWRmNmVhP3Jlc3BvbnNlLWNvbnRlbnQtZGlzcG9zaXRpb249KiZyZXNwb25zZS1jb250ZW50LXR5cGU9KiJ9XX0_&Signature=RtPPDZtd7LZjFaZDGnH2UgeR%7EjucBj3PdtLKr9U%7ExNq-LSVFOKs3x538G0Mcur65FryXvXV3FVJYOfWm4g%7EwI%7Eh1jGOhGN2dgsDlpj40jeMSLc8SuyljVT-MiJnFfMbiV-10pT-0GeTy7UzKipc6v7%7EGtuvV-S9DyC1oLAuWvMIYtr50kqF7odKzoADaUu1XnZS-IHB4Bbz3FdU2VS0rKjGfIq4cinSfmDD9u9N23gK%7EzmU3Nn6-3-eUf2qlyzB7mIq7LvPdAckYwEtVrzeBaMwLAkU601KELkqrJwDV2SEBnyr3Tvh0o4RAB%7EkfZMsqLfhXGwvbm1GdtgeUiFTz4A__&Key-Pair-Id=K3RPWS32NSSJCE: HTTPSConnectionPool(host='cdn-lfs.hf.co', port=443): Read timed out.\n",
      "Trying to resume download...\n"
     ]
    },
    {
     "data": {
      "application/vnd.jupyter.widget-view+json": {
       "model_id": "eb3b88daba674b5e872a9ecb0d9bafa3",
       "version_major": 2,
       "version_minor": 0
      },
      "text/plain": [
       "pytorch_model.bin:  27%|##6       | 325M/1.22G [00:00<?, ?B/s]"
      ]
     },
     "metadata": {},
     "output_type": "display_data"
    },
    {
     "name": "stderr",
     "output_type": "stream",
     "text": [
      "Error while downloading from https://cdn-lfs.hf.co/sshleifer/distilbart-cnn-12-6/3bac65d18c99463302d12ca75c2220ea714f9c81ce235f205fa818efe71df6ea?response-content-disposition=inline%3B+filename*%3DUTF-8%27%27pytorch_model.bin%3B+filename%3D%22pytorch_model.bin%22%3B&response-content-type=application%2Foctet-stream&Expires=1734697500&Policy=eyJTdGF0ZW1lbnQiOlt7IkNvbmRpdGlvbiI6eyJEYXRlTGVzc1RoYW4iOnsiQVdTOkVwb2NoVGltZSI6MTczNDY5NzUwMH19LCJSZXNvdXJjZSI6Imh0dHBzOi8vY2RuLWxmcy5oZi5jby9zc2hsZWlmZXIvZGlzdGlsYmFydC1jbm4tMTItNi8zYmFjNjVkMThjOTk0NjMzMDJkMTJjYTc1YzIyMjBlYTcxNGY5YzgxY2UyMzVmMjA1ZmE4MThlZmU3MWRmNmVhP3Jlc3BvbnNlLWNvbnRlbnQtZGlzcG9zaXRpb249KiZyZXNwb25zZS1jb250ZW50LXR5cGU9KiJ9XX0_&Signature=RtPPDZtd7LZjFaZDGnH2UgeR%7EjucBj3PdtLKr9U%7ExNq-LSVFOKs3x538G0Mcur65FryXvXV3FVJYOfWm4g%7EwI%7Eh1jGOhGN2dgsDlpj40jeMSLc8SuyljVT-MiJnFfMbiV-10pT-0GeTy7UzKipc6v7%7EGtuvV-S9DyC1oLAuWvMIYtr50kqF7odKzoADaUu1XnZS-IHB4Bbz3FdU2VS0rKjGfIq4cinSfmDD9u9N23gK%7EzmU3Nn6-3-eUf2qlyzB7mIq7LvPdAckYwEtVrzeBaMwLAkU601KELkqrJwDV2SEBnyr3Tvh0o4RAB%7EkfZMsqLfhXGwvbm1GdtgeUiFTz4A__&Key-Pair-Id=K3RPWS32NSSJCE: HTTPSConnectionPool(host='cdn-lfs.hf.co', port=443): Read timed out.\n",
      "Trying to resume download...\n"
     ]
    },
    {
     "data": {
      "application/vnd.jupyter.widget-view+json": {
       "model_id": "d5e3447247d343f1bb8d3e6a01284fb1",
       "version_major": 2,
       "version_minor": 0
      },
      "text/plain": [
       "pytorch_model.bin:  27%|##7       | 336M/1.22G [00:00<?, ?B/s]"
      ]
     },
     "metadata": {},
     "output_type": "display_data"
    },
    {
     "data": {
      "application/vnd.jupyter.widget-view+json": {
       "model_id": "f7559fb111b1460897855bd38941395c",
       "version_major": 2,
       "version_minor": 0
      },
      "text/plain": [
       "tokenizer_config.json:   0%|          | 0.00/26.0 [00:00<?, ?B/s]"
      ]
     },
     "metadata": {},
     "output_type": "display_data"
    },
    {
     "data": {
      "application/vnd.jupyter.widget-view+json": {
       "model_id": "aecc9df2a763427399573998afc394bc",
       "version_major": 2,
       "version_minor": 0
      },
      "text/plain": [
       "vocab.json:   0%|          | 0.00/899k [00:00<?, ?B/s]"
      ]
     },
     "metadata": {},
     "output_type": "display_data"
    },
    {
     "data": {
      "application/vnd.jupyter.widget-view+json": {
       "model_id": "9b2cd5fea9ce4a31bfd24eabbe062287",
       "version_major": 2,
       "version_minor": 0
      },
      "text/plain": [
       "merges.txt:   0%|          | 0.00/456k [00:00<?, ?B/s]"
      ]
     },
     "metadata": {},
     "output_type": "display_data"
    },
    {
     "name": "stderr",
     "output_type": "stream",
     "text": [
      "Device set to use cpu\n",
      "Your max_length is set to 142, but your input_length is only 55. Since this is a summarization task, where outputs shorter than the input are typically wanted, you might consider decreasing max_length manually, e.g. summarizer('...', max_length=27)\n"
     ]
    },
    {
     "name": "stdout",
     "output_type": "stream",
     "text": [
      " Hugging Face is a company that provides an easy-to-use interface for various NLP tasks . They have a library called transformers that allows you to use pre-trained models for tasks such as text classification, summarization, and translation . The company also has a library of transformers .\n"
     ]
    }
   ],
   "source": [
    "from transformers import pipeline\n",
    "\n",
    "# Load pre-trained summarization model\n",
    "summarizer = pipeline(\"summarization\")\n",
    "\n",
    "# Sample text to summarize\n",
    "text = \"\"\"\n",
    "Hugging Face is a company that provides an easy-to-use interface for various NLP tasks. They have a library called transformers that allows you to use pre-trained models for tasks such as text classification, summarization, and translation.\n",
    "\"\"\"\n",
    "\n",
    "# Generate the summary\n",
    "summary = summarizer(text)\n",
    "\n",
    "# Print the summary\n",
    "print(summary[0]['summary_text'])"
   ]
  },
  {
   "cell_type": "markdown",
   "metadata": {},
   "source": [
    "### 9. How can you create a simple RNN for text classification using Keras?"
   ]
  },
  {
   "cell_type": "code",
   "execution_count": 1,
   "metadata": {},
   "outputs": [
    {
     "name": "stdout",
     "output_type": "stream",
     "text": [
      "2.13.1\n"
     ]
    }
   ],
   "source": [
    "import tensorflow as tf\n",
    "print(tf.__version__)\n"
   ]
  },
  {
   "cell_type": "code",
   "execution_count": 3,
   "metadata": {},
   "outputs": [
    {
     "name": "stdout",
     "output_type": "stream",
     "text": [
      "Epoch 1/5\n",
      "1/1 [==============================] - 2s 2s/step - loss: 0.7074 - accuracy: 0.3333\n",
      "Epoch 2/5\n",
      "1/1 [==============================] - 0s 0s/step - loss: 0.6489 - accuracy: 0.6667\n",
      "Epoch 3/5\n",
      "1/1 [==============================] - 0s 11ms/step - loss: 0.5976 - accuracy: 0.6667\n",
      "Epoch 4/5\n",
      "1/1 [==============================] - 0s 11ms/step - loss: 0.5518 - accuracy: 0.6667\n",
      "Epoch 5/5\n",
      "1/1 [==============================] - 0s 12ms/step - loss: 0.5109 - accuracy: 0.6667\n"
     ]
    },
    {
     "data": {
      "text/plain": [
       "<keras.src.callbacks.History at 0x23ea5fa2590>"
      ]
     },
     "execution_count": 3,
     "metadata": {},
     "output_type": "execute_result"
    }
   ],
   "source": [
    "import numpy as np   \n",
    "import tensorflow as tf\n",
    "from tensorflow import keras\n",
    "from keras.models import Sequential\n",
    "from keras.layers import Embedding, SimpleRNN, Dense\n",
    "from keras.preprocessing.text import Tokenizer\n",
    "from keras.preprocessing.sequence import pad_sequences\n",
    "\n",
    "# Sample data\n",
    "texts = [\"I love machine learning\", \"Deep learning is amazing\", \"Natural language processing is fun\"]\n",
    "labels = [1, 1, 0]  # 1: positive, 0: negative\n",
    "\n",
    "# Tokenizing the text\n",
    "tokenizer = Tokenizer(num_words=1000)\n",
    "tokenizer.fit_on_texts(texts)\n",
    "sequences = tokenizer.texts_to_sequences(texts)\n",
    "X = pad_sequences(sequences, maxlen=10)\n",
    "\n",
    "# Convert labels to a NumPy array\n",
    "y = np.array(labels)\n",
    "\n",
    "# Building the RNN model\n",
    "model = Sequential()\n",
    "model.add(Embedding(input_dim=1000, output_dim=64, input_length=10))\n",
    "model.add(SimpleRNN(64))\n",
    "model.add(Dense(1, activation='sigmoid'))\n",
    "\n",
    "# Compiling and training the model\n",
    "model.compile(optimizer='adam', loss='binary_crossentropy', metrics=['accuracy'])\n",
    "model.fit(X, y, epochs=5)\n"
   ]
  },
  {
   "cell_type": "markdown",
   "metadata": {},
   "source": [
    "### 10. How do you train a Bidirectional LSTM for text classification?"
   ]
  },
  {
   "cell_type": "code",
   "execution_count": 5,
   "metadata": {},
   "outputs": [
    {
     "name": "stdout",
     "output_type": "stream",
     "text": [
      "Epoch 1/5\n",
      "1/1 [==============================] - 5s 5s/step - loss: 0.6886 - accuracy: 1.0000\n",
      "Epoch 2/5\n",
      "1/1 [==============================] - 0s 21ms/step - loss: 0.6790 - accuracy: 0.6667\n",
      "Epoch 3/5\n",
      "1/1 [==============================] - 0s 17ms/step - loss: 0.6696 - accuracy: 0.6667\n",
      "Epoch 4/5\n",
      "1/1 [==============================] - 0s 15ms/step - loss: 0.6603 - accuracy: 0.6667\n",
      "Epoch 5/5\n",
      "1/1 [==============================] - 0s 19ms/step - loss: 0.6510 - accuracy: 0.6667\n"
     ]
    },
    {
     "data": {
      "text/plain": [
       "<keras.src.callbacks.History at 0x23ea8db2c50>"
      ]
     },
     "execution_count": 5,
     "metadata": {},
     "output_type": "execute_result"
    }
   ],
   "source": [
    "import numpy as np   \n",
    "from keras.models import Sequential\n",
    "from keras.layers import Embedding, LSTM, Bidirectional, Dense\n",
    "from keras.preprocessing.text import Tokenizer\n",
    "from keras.preprocessing.sequence import pad_sequences\n",
    "\n",
    "# Sample data\n",
    "texts = [\"I love machine learning\", \"Deep learning is amazing\", \"Natural language processing is fun\"]\n",
    "labels = [1, 1, 0]  # 1: positive, 0: negative\n",
    "\n",
    "# Tokenizing the text\n",
    "tokenizer = Tokenizer(num_words=1000)\n",
    "tokenizer.fit_on_texts(texts)\n",
    "sequences = tokenizer.texts_to_sequences(texts)\n",
    "X = pad_sequences(sequences, maxlen=10)\n",
    "\n",
    "# Convert labels to a NumPy array\n",
    "y = np.array(labels)\n",
    "\n",
    "# Building the Bidirectional LSTM model\n",
    "model = Sequential()\n",
    "model.add(Embedding(input_dim=1000, output_dim=64, input_length=10))\n",
    "model.add(Bidirectional(LSTM(64)))\n",
    "model.add(Dense(1, activation='sigmoid'))\n",
    "\n",
    "# Compiling and training the model\n",
    "model.compile(optimizer='adam', loss='binary_crossentropy', metrics=['accuracy'])\n",
    "model.fit(X, y, epochs=5)\n"
   ]
  },
  {
   "cell_type": "markdown",
   "metadata": {},
   "source": [
    "### 11. How do you implement GRU (Gated Recurrent Unit) for text classification?"
   ]
  },
  {
   "cell_type": "code",
   "execution_count": 7,
   "metadata": {},
   "outputs": [
    {
     "name": "stdout",
     "output_type": "stream",
     "text": [
      "Epoch 1/5\n",
      "1/1 [==============================] - 4s 4s/step - loss: 0.6929 - accuracy: 0.6667\n",
      "Epoch 2/5\n",
      "1/1 [==============================] - 0s 24ms/step - loss: 0.6839 - accuracy: 0.6667\n",
      "Epoch 3/5\n",
      "1/1 [==============================] - 0s 17ms/step - loss: 0.6751 - accuracy: 0.6667\n",
      "Epoch 4/5\n",
      "1/1 [==============================] - 0s 25ms/step - loss: 0.6662 - accuracy: 0.6667\n",
      "Epoch 5/5\n",
      "1/1 [==============================] - 0s 19ms/step - loss: 0.6573 - accuracy: 0.6667\n"
     ]
    },
    {
     "data": {
      "text/plain": [
       "<keras.src.callbacks.History at 0x23ead5b6650>"
      ]
     },
     "execution_count": 7,
     "metadata": {},
     "output_type": "execute_result"
    }
   ],
   "source": [
    "import numpy as np  \n",
    "from keras.models import Sequential\n",
    "from keras.layers import Embedding, GRU, Dense\n",
    "from keras.preprocessing.text import Tokenizer\n",
    "from keras.preprocessing.sequence import pad_sequences\n",
    "\n",
    "# Sample data\n",
    "texts = [\"I love machine learning\", \"Deep learning is amazing\", \"Natural language processing is fun\"]\n",
    "labels = [1, 1, 0]  # 1: positive, 0: negative\n",
    "\n",
    "# Tokenizing the text\n",
    "tokenizer = Tokenizer(num_words=1000)\n",
    "tokenizer.fit_on_texts(texts)\n",
    "sequences = tokenizer.texts_to_sequences(texts)\n",
    "X = pad_sequences(sequences, maxlen=10)\n",
    "\n",
    "# Convert labels to a NumPy array\n",
    "y = np.array(labels)\n",
    "\n",
    "# Building the GRU model\n",
    "model = Sequential()\n",
    "model.add(Embedding(input_dim=1000, output_dim=64, input_length=10))\n",
    "model.add(GRU(64))\n",
    "model.add(Dense(1, activation='sigmoid'))\n",
    "\n",
    "# Compiling and training the model\n",
    "model.compile(optimizer='adam', loss='binary_crossentropy', metrics=['accuracy'])\n",
    "model.fit(X, y, epochs=5)\n"
   ]
  },
  {
   "cell_type": "markdown",
   "metadata": {},
   "source": [
    "### 12. How do you implement a text generation model using LSTM with Keras?"
   ]
  },
  {
   "cell_type": "code",
   "execution_count": 9,
   "metadata": {},
   "outputs": [
    {
     "name": "stdout",
     "output_type": "stream",
     "text": [
      "Epoch 1/50\n",
      "1/1 [==============================] - 5s 5s/step - loss: 2.0936\n",
      "Epoch 2/50\n",
      "1/1 [==============================] - 0s 17ms/step - loss: 2.0583\n",
      "Epoch 3/50\n",
      "1/1 [==============================] - 0s 17ms/step - loss: 2.0255\n",
      "Epoch 4/50\n",
      "1/1 [==============================] - 0s 0s/step - loss: 1.9951\n",
      "Epoch 5/50\n",
      "1/1 [==============================] - 0s 9ms/step - loss: 1.9669\n",
      "Epoch 6/50\n",
      "1/1 [==============================] - 0s 9ms/step - loss: 1.9409\n",
      "Epoch 7/50\n",
      "1/1 [==============================] - 0s 19ms/step - loss: 1.9167\n",
      "Epoch 8/50\n",
      "1/1 [==============================] - 0s 15ms/step - loss: 1.8943\n",
      "Epoch 9/50\n",
      "1/1 [==============================] - 0s 19ms/step - loss: 1.8735\n",
      "Epoch 10/50\n",
      "1/1 [==============================] - 0s 17ms/step - loss: 1.8541\n",
      "Epoch 11/50\n",
      "1/1 [==============================] - 0s 16ms/step - loss: 1.8361\n",
      "Epoch 12/50\n",
      "1/1 [==============================] - 0s 31ms/step - loss: 1.8192\n",
      "Epoch 13/50\n",
      "1/1 [==============================] - 0s 15ms/step - loss: 1.8033\n",
      "Epoch 14/50\n",
      "1/1 [==============================] - 0s 13ms/step - loss: 1.7883\n",
      "Epoch 15/50\n",
      "1/1 [==============================] - 0s 17ms/step - loss: 1.7741\n",
      "Epoch 16/50\n",
      "1/1 [==============================] - 0s 11ms/step - loss: 1.7603\n",
      "Epoch 17/50\n",
      "1/1 [==============================] - 0s 14ms/step - loss: 1.7470\n",
      "Epoch 18/50\n",
      "1/1 [==============================] - 0s 16ms/step - loss: 1.7340\n",
      "Epoch 19/50\n",
      "1/1 [==============================] - 0s 32ms/step - loss: 1.7212\n",
      "Epoch 20/50\n",
      "1/1 [==============================] - 0s 20ms/step - loss: 1.7085\n",
      "Epoch 21/50\n",
      "1/1 [==============================] - 0s 20ms/step - loss: 1.6957\n",
      "Epoch 22/50\n",
      "1/1 [==============================] - 0s 19ms/step - loss: 1.6829\n",
      "Epoch 23/50\n",
      "1/1 [==============================] - 0s 15ms/step - loss: 1.6700\n",
      "Epoch 24/50\n",
      "1/1 [==============================] - 0s 17ms/step - loss: 1.6570\n",
      "Epoch 25/50\n",
      "1/1 [==============================] - 0s 20ms/step - loss: 1.6438\n",
      "Epoch 26/50\n",
      "1/1 [==============================] - 0s 18ms/step - loss: 1.6304\n",
      "Epoch 27/50\n",
      "1/1 [==============================] - 0s 3ms/step - loss: 1.6167\n",
      "Epoch 28/50\n",
      "1/1 [==============================] - 0s 6ms/step - loss: 1.6028\n",
      "Epoch 29/50\n",
      "1/1 [==============================] - 0s 9ms/step - loss: 1.5886\n",
      "Epoch 30/50\n",
      "1/1 [==============================] - 0s 13ms/step - loss: 1.5741\n",
      "Epoch 31/50\n",
      "1/1 [==============================] - 0s 10ms/step - loss: 1.5592\n",
      "Epoch 32/50\n",
      "1/1 [==============================] - 0s 11ms/step - loss: 1.5440\n",
      "Epoch 33/50\n",
      "1/1 [==============================] - 0s 9ms/step - loss: 1.5285\n",
      "Epoch 34/50\n",
      "1/1 [==============================] - 0s 13ms/step - loss: 1.5125\n",
      "Epoch 35/50\n",
      "1/1 [==============================] - 0s 13ms/step - loss: 1.4961\n",
      "Epoch 36/50\n",
      "1/1 [==============================] - 0s 13ms/step - loss: 1.4793\n",
      "Epoch 37/50\n",
      "1/1 [==============================] - 0s 18ms/step - loss: 1.4619\n",
      "Epoch 38/50\n",
      "1/1 [==============================] - 0s 14ms/step - loss: 1.4440\n",
      "Epoch 39/50\n",
      "1/1 [==============================] - 0s 18ms/step - loss: 1.4254\n",
      "Epoch 40/50\n",
      "1/1 [==============================] - 0s 15ms/step - loss: 1.4063\n",
      "Epoch 41/50\n",
      "1/1 [==============================] - 0s 3ms/step - loss: 1.3866\n",
      "Epoch 42/50\n",
      "1/1 [==============================] - 0s 7ms/step - loss: 1.3664\n",
      "Epoch 43/50\n",
      "1/1 [==============================] - 0s 9ms/step - loss: 1.3457\n",
      "Epoch 44/50\n",
      "1/1 [==============================] - 0s 11ms/step - loss: 1.3246\n",
      "Epoch 45/50\n",
      "1/1 [==============================] - 0s 16ms/step - loss: 1.3030\n",
      "Epoch 46/50\n",
      "1/1 [==============================] - 0s 22ms/step - loss: 1.2811\n",
      "Epoch 47/50\n",
      "1/1 [==============================] - 0s 18ms/step - loss: 1.2588\n",
      "Epoch 48/50\n",
      "1/1 [==============================] - 0s 11ms/step - loss: 1.2361\n",
      "Epoch 49/50\n",
      "1/1 [==============================] - 0s 14ms/step - loss: 1.2130\n",
      "Epoch 50/50\n",
      "1/1 [==============================] - 0s 10ms/step - loss: 1.1897\n"
     ]
    },
    {
     "data": {
      "text/plain": [
       "<keras.src.callbacks.History at 0x23eb2416f10>"
      ]
     },
     "execution_count": 9,
     "metadata": {},
     "output_type": "execute_result"
    }
   ],
   "source": [
    "from keras.models import Sequential\n",
    "from keras.layers import LSTM, Dense, Activation\n",
    "from keras.utils import to_categorical\n",
    "import numpy as np\n",
    "\n",
    "# Sample text\n",
    "text = \"hello world\"\n",
    "\n",
    "# Preparing the dataset (example for character-based text generation)\n",
    "chars = sorted(list(set(text)))\n",
    "char_to_int = {c: i for i, c in enumerate(chars)}\n",
    "int_to_char = {i: c for i, c in enumerate(chars)}\n",
    "\n",
    "# Creating input/output pairs\n",
    "X = []\n",
    "y = []\n",
    "seq_length = 3\n",
    "for i in range(len(text) - seq_length):\n",
    "    X.append([char_to_int[char] for char in text[i:i+seq_length]])\n",
    "    y.append(char_to_int[text[i+seq_length]])\n",
    "\n",
    "X = np.array(X)\n",
    "y = np.array(y)\n",
    "\n",
    "# One-hot encoding the labels\n",
    "y = to_categorical(y, num_classes=len(chars))\n",
    "\n",
    "# Reshaping X to be 3D [samples, time steps, features]\n",
    "X = np.reshape(X, (X.shape[0], X.shape[1], 1))  # Add a feature dimension\n",
    "\n",
    "# Building the LSTM model for text generation\n",
    "model = Sequential()\n",
    "model.add(LSTM(128, input_shape=(X.shape[1], X.shape[2])))  # Adjusted input shape\n",
    "model.add(Dense(len(chars)))\n",
    "model.add(Activation('softmax'))\n",
    "\n",
    "model.compile(loss='categorical_crossentropy', optimizer='adam')\n",
    "\n",
    "# Training the model\n",
    "model.fit(X, y, epochs=50)\n"
   ]
  },
  {
   "cell_type": "markdown",
   "metadata": {},
   "source": [
    "### 13. How do you implement a simple Bi-directional GRU for sequence labeling?"
   ]
  },
  {
   "cell_type": "code",
   "execution_count": 15,
   "metadata": {},
   "outputs": [
    {
     "name": "stdout",
     "output_type": "stream",
     "text": [
      "Shape of X: (2, 5)\n",
      "Shape of y: (2, 5, 4)\n",
      "Epoch 1/5\n",
      "1/1 [==============================] - 8s 8s/step - loss: 1.1143 - accuracy: 0.0000e+00\n",
      "Epoch 2/5\n",
      "1/1 [==============================] - 0s 16ms/step - loss: 1.1066 - accuracy: 0.2000\n",
      "Epoch 3/5\n",
      "1/1 [==============================] - 0s 23ms/step - loss: 1.0990 - accuracy: 0.5000\n",
      "Epoch 4/5\n",
      "1/1 [==============================] - 0s 36ms/step - loss: 1.0914 - accuracy: 0.7000\n",
      "Epoch 5/5\n",
      "1/1 [==============================] - 0s 26ms/step - loss: 1.0838 - accuracy: 0.7000\n"
     ]
    },
    {
     "data": {
      "text/plain": [
       "<keras.src.callbacks.History at 0x23eb7f87750>"
      ]
     },
     "execution_count": 15,
     "metadata": {},
     "output_type": "execute_result"
    }
   ],
   "source": [
    "from keras.models import Sequential\n",
    "from keras.layers import Embedding, Bidirectional, GRU, Dense\n",
    "from keras.preprocessing.text import Tokenizer\n",
    "from keras.preprocessing.sequence import pad_sequences\n",
    "import numpy as np\n",
    "from keras.utils import to_categorical\n",
    "\n",
    "# Sample data for sequence labeling (NER)\n",
    "texts = [\"John lives in New York\", \"Mary works at Google\"]\n",
    "labels = [[1, 0, 2, 2], [1, 0, 3, 3]]  # 1: person, 0: O, 2: location, 3: organization\n",
    "\n",
    "# Tokenizing the text\n",
    "tokenizer = Tokenizer(num_words=1000)\n",
    "tokenizer.fit_on_texts(texts)\n",
    "sequences = tokenizer.texts_to_sequences(texts)\n",
    "X = pad_sequences(sequences, maxlen=5)  # Padding to maxlen of 5\n",
    "\n",
    "# One-hot encoding the labels  \n",
    "y = [to_categorical(label, num_classes=4) for label in labels]  # One-hot encode labels\n",
    "y = np.array([np.pad(label, ((0, X.shape[1] - len(label)), (0, 0)), 'constant') for label in y])  # Pad labels to match maxlen of 5\n",
    "\n",
    "# Ensure y has the correct shape: (batch_size, timesteps, num_classes)\n",
    "print(f\"Shape of X: {X.shape}\")\n",
    "print(f\"Shape of y: {y.shape}\")\n",
    "\n",
    "# Building the Bi-directional GRU model\n",
    "model = Sequential()\n",
    "model.add(Embedding(input_dim=1000, output_dim=64, input_length=5))\n",
    "model.add(Bidirectional(GRU(64, return_sequences=True)))  # GRU layer returns sequences for sequence labeling\n",
    "model.add(Dense(4, activation='softmax'))  # Softmax activation for multi-class classification at each timestep\n",
    "\n",
    "# Compiling the model\n",
    "model.compile(optimizer='adam', loss='categorical_crossentropy', metrics=['accuracy'])\n",
    "\n",
    "# Training the model\n",
    "model.fit(X, y, epochs=5)\n"
   ]
  }
 ],
 "metadata": {
  "kernelspec": {
   "display_name": "Python 3",
   "language": "python",
   "name": "python3"
  },
  "language_info": {
   "codemirror_mode": {
    "name": "ipython",
    "version": 3
   },
   "file_extension": ".py",
   "mimetype": "text/x-python",
   "name": "python",
   "nbconvert_exporter": "python",
   "pygments_lexer": "ipython3",
   "version": "3.11.5"
  }
 },
 "nbformat": 4,
 "nbformat_minor": 2
}
