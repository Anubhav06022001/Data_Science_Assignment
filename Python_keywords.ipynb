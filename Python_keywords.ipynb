{
 "cells": [
  {
   "cell_type": "markdown",
   "metadata": {},
   "source": [
    "1. Explain the significance of Python keywords and provide examples of five keywords"
   ]
  },
  {
   "cell_type": "markdown",
   "metadata": {},
   "source": [
    "Python keywords are reserved words that have special meanings and purposes within the Python language. These keywords cannot be used as identifiers (e.g., variable names or function names) because they are already defined with specific functionalities. Understanding and properly using Python keywords is crucial for writing correct and efficient Python code.\n",
    "\n",
    "'if'=allows you to execute a block of code only if a specified condition is true.\n",
    "'for'=allows you to execute a block of code repeatedly for each item in the iterable\n",
    "'def'= allows you to create reusable blocks of code with a name that can be called later in the program.\n",
    "'return'=allows you to specify the result of the function that can be used elsewhere in the code.\n",
    "'else'= used in conjunction with if statements to execute a block of code when the condition of the if statement is false."
   ]
  },
  {
   "cell_type": "code",
   "execution_count": 1,
   "metadata": {},
   "outputs": [
    {
     "name": "stdout",
     "output_type": "stream",
     "text": [
      "x is greater than 5\n"
     ]
    }
   ],
   "source": [
    "x = 10\n",
    "if x > 5:\n",
    "    print(\"x is greater than 5\")\n"
   ]
  },
  {
   "cell_type": "code",
   "execution_count": 2,
   "metadata": {},
   "outputs": [
    {
     "name": "stdout",
     "output_type": "stream",
     "text": [
      "0\n",
      "1\n",
      "2\n",
      "3\n",
      "4\n"
     ]
    }
   ],
   "source": [
    "for i in range(5):\n",
    "    print(i)\n"
   ]
  },
  {
   "cell_type": "code",
   "execution_count": 3,
   "metadata": {},
   "outputs": [
    {
     "name": "stdout",
     "output_type": "stream",
     "text": [
      "Hello, Alice\n"
     ]
    }
   ],
   "source": [
    "def greet(name):\n",
    "    print(\"Hello, \" + name)\n",
    "\n",
    "greet(\"Alice\")\n"
   ]
  },
  {
   "cell_type": "code",
   "execution_count": 4,
   "metadata": {},
   "outputs": [
    {
     "name": "stdout",
     "output_type": "stream",
     "text": [
      "8\n"
     ]
    }
   ],
   "source": [
    "def add(a, b):\n",
    "    return a + b\n",
    "\n",
    "result = add(3, 5)\n",
    "print(result)  \n"
   ]
  },
  {
   "cell_type": "code",
   "execution_count": 5,
   "metadata": {},
   "outputs": [
    {
     "name": "stdout",
     "output_type": "stream",
     "text": [
      "x is not greater than 5\n"
     ]
    }
   ],
   "source": [
    "x = 3\n",
    "if x > 5:\n",
    "    print(\"x is greater than 5\")\n",
    "else:\n",
    "    print(\"x is not greater than 5\")\n"
   ]
  },
  {
   "cell_type": "markdown",
   "metadata": {},
   "source": [
    "2. Describe the rules for defining identifiers in Python and provide an example"
   ]
  },
  {
   "cell_type": "markdown",
   "metadata": {},
   "source": [
    "Rules for defining identifiers are:\n",
    "1. Starts with a letter (a-z, A-Z) or an underscore\n",
    "2. Consists of letters, digits (0-9), or underscores \n",
    "3. Case-sensitive:\n",
    "4. Can't be a keyword:\n",
    "5. Can't contain special characters\n",
    "\n"
   ]
  },
  {
   "cell_type": "code",
   "execution_count": 1,
   "metadata": {},
   "outputs": [],
   "source": [
    "# exaple valid\n",
    "variable_name = 10\n",
    "VariableName = 20\n",
    "_variable_name = 30\n",
    "my_variable_123 = 40\n"
   ]
  },
  {
   "cell_type": "code",
   "execution_count": 3,
   "metadata": {},
   "outputs": [
    {
     "ename": "SyntaxError",
     "evalue": "invalid syntax (2807439100.py, line 2)",
     "output_type": "error",
     "traceback": [
      "\u001b[0;36m  Cell \u001b[0;32mIn[3], line 2\u001b[0;36m\u001b[0m\n\u001b[0;31m    123variable = 50  # Can't start with a digit\u001b[0m\n\u001b[0m       ^\u001b[0m\n\u001b[0;31mSyntaxError\u001b[0m\u001b[0;31m:\u001b[0m invalid syntax\n"
     ]
    }
   ],
   "source": [
    "#example invalid\n",
    "123variable = 50  # Can't start with a digit\n",
    "my-variable = 60   # Can't contain hyphens\n",
    "if = 70            # Can't be a reserved word\n",
    "special@char = 80  # Can't contain special characters\n"
   ]
  },
  {
   "cell_type": "markdown",
   "metadata": {},
   "source": [
    "3. What are comments in Python, and why are they useful Provide an example"
   ]
  },
  {
   "cell_type": "markdown",
   "metadata": {},
   "source": [
    "comments are annotations in the code that are ignored by the interpreter. They are used to add explanatory notes or remarks to the code to make it more readable and understandable\n",
    "\n",
    "Comments are useful for several reasons:\n",
    "\n",
    "    Documentation \n",
    "    Clarification \n",
    "    Disable code \n",
    "    Communication "
   ]
  },
  {
   "cell_type": "code",
   "execution_count": 4,
   "metadata": {},
   "outputs": [
    {
     "name": "stdout",
     "output_type": "stream",
     "text": [
      "Hello, Anubhav! You are 24 years old.\n",
      "You were born in the year 1977.\n"
     ]
    }
   ],
   "source": [
    "# This is a single-line comment\n",
    "\n",
    "# Variables for storing the user's name and age\n",
    "name = \"Anubhav\"  # Store the user's name\n",
    "age = 24       # Store the user's age\n",
    "\n",
    "# Calculate the year of birth based on the current year and age\n",
    " \n",
    "year_of_birth = 2001 - age\n",
    "\n",
    "# Display a message with the user's details\n",
    "print(f\"Hello, {name}! You are {age} years old.\")\n",
    "print(f\"You were born in the year {year_of_birth}.\")\n",
    "\n",
    "\n"
   ]
  },
  {
   "cell_type": "markdown",
   "metadata": {},
   "source": [
    "4. Why is proper indentation important in Python?"
   ]
  },
  {
   "cell_type": "markdown",
   "metadata": {},
   "source": [
    "Proper indentation is crucial in Python because it is used to define the structure and hierarchy of code blocks. \n",
    "\n",
    "proper indentation is important:\n",
    "\n",
    "    Readability \n",
    "    Code Blocks \n",
    "    Enforces Consistency \n",
    "    No Ambiguity \n",
    "    Debugging \n",
    "    Pythonic Style "
   ]
  },
  {
   "cell_type": "code",
   "execution_count": 5,
   "metadata": {},
   "outputs": [
    {
     "name": "stdout",
     "output_type": "stream",
     "text": [
      "This statement is inside the if block.\n"
     ]
    }
   ],
   "source": [
    "if True:\n",
    "    print(\"This statement is inside the if block.\")\n",
    "\n",
    " \n"
   ]
  },
  {
   "cell_type": "code",
   "execution_count": 7,
   "metadata": {},
   "outputs": [
    {
     "ename": "IndentationError",
     "evalue": "expected an indented block (1909405483.py, line 2)",
     "output_type": "error",
     "traceback": [
      "\u001b[0;36m  Cell \u001b[0;32mIn[7], line 2\u001b[0;36m\u001b[0m\n\u001b[0;31m    print(\"This statement is not inside the if block:Generates IndentationError\")\u001b[0m\n\u001b[0m    ^\u001b[0m\n\u001b[0;31mIndentationError\u001b[0m\u001b[0;31m:\u001b[0m expected an indented block\n"
     ]
    }
   ],
   "source": [
    "if True:\n",
    "print(\"This statement is not inside the if block:Generates IndentationError\")\n"
   ]
  },
  {
   "cell_type": "markdown",
   "metadata": {},
   "source": [
    "5. What happens if indentation is incorrect in Python?"
   ]
  },
  {
   "cell_type": "markdown",
   "metadata": {},
   "source": [
    "As shown above incorrect indentation lead to syntax error as shown in the above example"
   ]
  },
  {
   "cell_type": "markdown",
   "metadata": {},
   "source": [
    "6. Differentiate between expression and statement in Python with examples"
   ]
  },
  {
   "cell_type": "markdown",
   "metadata": {},
   "source": [
    "An expression is a combination of values, variables, operators, and function calls that evaluates to a single value.\n",
    "\n",
    "A statement is a complete instruction that performs some action.\n",
    "\n",
    "Example==    Assignment, arithmetic operations, function calls, and comparisons are examples of expressions, while variable assignments, function definitions, conditional statements, loops, etc., are examples of statements.\n",
    "\n"
   ]
  },
  {
   "cell_type": "code",
   "execution_count": null,
   "metadata": {},
   "outputs": [],
   "source": [
    "#expression\n",
    "x = 10  # Assignment expression\n",
    "y = x + 5  # Arithmetic expression\n",
    "z = (x * y) / 2  # Complex arithmetic expression\n",
    "result = expression_calc(x, y)  # Function call expression"
   ]
  },
  {
   "cell_type": "code",
   "execution_count": null,
   "metadata": {},
   "outputs": [],
   "source": [
    "#statement\n",
    "x = 10  # Assignment statement\n",
    "def my_function(x):  # Function definition statement\n",
    "    return x * 2\n",
    "if x > 5:  # Conditional statement\n",
    "    print(\"x is greater than 5\")\n",
    "for i in range(5):  # Loop statement\n",
    "    print(i)"
   ]
  }
 ],
 "metadata": {
  "kernelspec": {
   "display_name": "Python 3",
   "language": "python",
   "name": "python3"
  },
  "language_info": {
   "codemirror_mode": {
    "name": "ipython",
    "version": 3
   },
   "file_extension": ".py",
   "mimetype": "text/x-python",
   "name": "python",
   "nbconvert_exporter": "python",
   "pygments_lexer": "ipython3",
   "version": "3.8.10"
  }
 },
 "nbformat": 4,
 "nbformat_minor": 2
}
