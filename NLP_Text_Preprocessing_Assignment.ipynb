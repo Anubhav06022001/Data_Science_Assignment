{
 "cells": [
  {
   "cell_type": "markdown",
   "metadata": {},
   "source": [
    "# NLP Introduction and Text Preprocessing Assignment\n",
    "\n",
    "## Theory Questions\n",
    "### 1. What is the primary goal of Natural Language Processing (NLP)?\n",
    "The primary goal of NLP is to enable computers to understand, interpret, and generate human language, making it possible to interact with machines in a natural and meaningful way.\n",
    "\n",
    "### 2. What does 'tokenization' refer to in text processing?\n",
    "Tokenization is the process of splitting a text into smaller units called tokens, which can be words, phrases, or sentences. It is a fundamental step in NLP that helps in breaking down text for further analysis.\n",
    "\n",
    "### 3. What is the difference between lemmatization and stemming?\n",
    "- **Stemming**: Reduces words to their root form by chopping off prefixes or suffixes. It often produces non-dictionary forms.\n",
    "- **Lemmatization**: Reduces words to their base or dictionary form (lemma) using linguistic analysis, resulting in more accurate results compared to stemming.\n",
    "\n",
    "### 4. What is the role of regular expressions (regex) in text processing?\n",
    "Regular expressions (regex) are used in text processing to match patterns in text. They are useful for tasks such as text cleaning, tokenization, and extracting specific patterns like email addresses or phone numbers.\n",
    "\n",
    "### 5. What is Word2Vec and how does it represent words in a vector space?\n",
    "Word2Vec is a neural network-based model that represents words as vectors in a continuous vector space. It captures semantic relationships between words, where words with similar meanings have similar vector representations.\n",
    "\n",
    "### 6. How does frequency distribution help in text analysis?\n",
    "Frequency distribution helps in text analysis by showing how often each word or token appears in a text. It provides insights into the importance of words, their frequency, and helps in identifying stopwords and key topics.\n",
    "\n",
    "### 7. Why is text normalization important in NLP?\n",
    "Text normalization is important in NLP to bring text into a consistent format, making it easier for models to analyze. It involves converting text to lowercase, removing punctuation, and handling contractions, which helps improve accuracy.\n",
    "\n",
    "### 8. What is the difference between sentence tokenization and word tokenization?\n",
    "- **Sentence Tokenization**: Splits a text into sentences.\n",
    "- **Word Tokenization**: Splits each sentence or text into individual words.\n",
    "\n",
    "### 9. What are co-occurrence vectors in NLP?\n",
    "Co-occurrence vectors represent words based on their co-occurrence with other words in a given context. They capture the relationships between words based on how often they appear together in a given window.\n",
    "\n",
    "### 10. What is the significance of lemmatization in improving NLP tasks?\n",
    "Lemmatization improves NLP tasks by reducing words to their canonical form, ensuring consistency and reducing data sparsity. It is particularly useful in tasks like information retrieval, text classification, and chatbots.\n",
    "\n",
    "### 11. What is the primary use of word embeddings in NLP?\n",
    "Word embeddings are used to represent words in a dense vector space where words with similar meanings are closer together. They help in capturing semantic meaning and are used in various NLP tasks like sentiment analysis and machine translation.\n",
    "\n",
    "### 12. What is an annotator in NLP?\n",
    "An annotator is a tool or system used to add metadata to text, such as parts of speech tags, named entities, or sentiment labels. It helps enrich the text with information that can be used for further analysis.\n",
    "\n",
    "### 13. What are the key steps in text processing before applying machine learning models?\n",
    "Key steps include tokenization, removing stopwords, stemming or lemmatization, text normalization (e.g., lowercase conversion), and vectorization (e.g., word embeddings).\n",
    "\n",
    "### 14. What is the history of NLP and how has it evolved?\n",
    "NLP has evolved from rule-based systems to statistical methods, and now to deep learning and transformer-based models. Early approaches relied on hand-crafted rules, whereas modern approaches use neural networks for better understanding and generating language.\n",
    "\n",
    "### 15. Why is sentence processing important in NLP?\n",
    "Sentence processing helps in understanding the context, meaning, and relationships between words in a text. It is crucial for tasks like machine translation, summarization, and sentiment analysis.\n",
    "\n",
    "### 16. How do word embeddings improve the understanding of language semantics in NLP?\n",
    "Word embeddings capture the semantic relationships between words by representing them in a continuous vector space, where similar words have similar vectors. This helps in better understanding language semantics.\n",
    "\n",
    "### 17. How does the frequency distribution of words help in text classification?\n",
    "Frequency distribution helps identify important words or terms in a text that can be used as features in text classification. It helps determine the relevance of specific terms for different classes.\n",
    "\n",
    "### 18. What are the advantages of using regex in text cleaning?\n",
    "Regex provides a powerful way to identify and manipulate text patterns, making it useful for tasks like removing special characters, extracting specific information, and formatting text consistently.\n",
    "\n",
    "### 19. What is the difference between word2vec and doc2vec?\n",
    "- **Word2Vec**: Represents individual words as vectors.\n",
    "- **Doc2Vec**: Represents entire documents or paragraphs as vectors, capturing the overall semantic meaning of the text.\n",
    "\n",
    "### 20. Why is understanding text normalization important in NLP?\n",
    "Understanding text normalization is important because it standardizes text, reducing noise and variability, and improving the model's performance by allowing it to focus on the core meaning of the text.\n",
    "\n",
    "### 21. How does word count help in text analysis?\n",
    "Word count provides information about the frequency of specific words in a text, helping to identify important terms, remove common stopwords, and understand the overall content of the text.\n",
    "\n",
    "### 22. How does lemmatization help in NLP tasks like search engines and chatbots?\n",
    "Lemmatization helps by reducing words to their base form, making it easier to match different inflected forms of words. This improves search relevance in search engines and helps chatbots understand user queries more effectively.\n",
    "\n",
    "### 23. What is the purpose of using Doc2Vec in text processing?\n",
    "Doc2Vec is used to represent entire documents as vectors, capturing their semantic content, which is useful for tasks like document clustering, retrieval, and recommendation systems.\n",
    "\n",
    "### 24. What is the importance of sentence processing in NLP?\n",
    "Sentence processing helps in understanding the context and meaning of the text at the sentence level. It is important for tasks like machine translation, question answering, and summarization.\n",
    "\n",
    "### 25. What is text normalization, and what are the common techniques used in it?\n",
    "Text normalization is the process of converting text into a standard format. Common techniques include converting text to lowercase, removing punctuation, expanding contractions, and handling special characters.\n",
    "\n",
    "### 26. Why is word tokenization important in NLP?\n",
    "Word tokenization is important because it breaks text into individual words, which is a necessary step for further processing, such as removing stopwords, stemming, or generating word embeddings.\n",
    "\n",
    "### 27. How does sentence tokenization differ from word tokenization in NLP?\n",
    "Sentence tokenization splits text into sentences, while word tokenization splits text into individual words. Both are used at different stages of text analysis depending on the requirements of the NLP task.\n",
    "\n",
    "### 28. What is the primary purpose of text processing in NLP?\n",
    "The primary purpose of text processing is to clean and prepare text data so that machine learning models can analyze it effectively. This involves removing noise, standardizing the text, and extracting meaningful features.\n",
    "\n",
    "### 29. What are the key challenges in NLP?\n",
    "Key challenges include handling ambiguity, context understanding, sarcasm detection, language diversity, and the need for large labeled datasets for training.\n",
    "\n",
    "### 30. How do co-occurrence vectors represent relationships between words?\n",
    "Co-occurrence vectors represent relationships by counting how often words appear together in a given context. Words that frequently appear together will have similar co-occurrence vectors, reflecting their relationships.\n",
    "\n",
    "### 31. What is the role of frequency distribution in text analysis?\n",
    "Frequency distribution helps identify the most common words or phrases in a text, which can be used to understand key topics, identify stopwords, and extract important features for analysis.\n",
    "\n",
    "### 32. What is the impact of word embeddings on NLP tasks?\n",
    "Word embeddings improve NLP tasks by providing dense vector representations of words that capture semantic relationships, enabling models to understand the meaning and context of words more effectively.\n",
    "\n",
    "### 33. What is the purpose of using lemmatization in text preprocessing?\n",
    "Lemmatization helps standardize words by reducing them to their base forms, improving consistency and reducing data sparsity, which enhances the performance of NLP models.\n"
   ]
  },
  {
   "cell_type": "markdown",
   "metadata": {},
   "source": [
    "\n",
    "## Practical Questions\n",
    "\n",
    "### 1. How can you perform word tokenization using NLTK?\n"
   ]
  },
  {
   "cell_type": "code",
   "execution_count": 1,
   "metadata": {},
   "outputs": [
    {
     "name": "stdout",
     "output_type": "stream",
     "text": [
      "['Natural', 'Language', 'Processing', 'is', 'fascinating', '!']\n"
     ]
    },
    {
     "name": "stderr",
     "output_type": "stream",
     "text": [
      "[nltk_data] Downloading package punkt to\n",
      "[nltk_data]     C:\\Users\\anubh\\AppData\\Roaming\\nltk_data...\n",
      "[nltk_data]   Package punkt is already up-to-date!\n"
     ]
    }
   ],
   "source": [
    "import nltk\n",
    "nltk.download('punkt')\n",
    "from nltk.tokenize import word_tokenize\n",
    "\n",
    "text = \"Natural Language Processing is fascinating!\"\n",
    "tokens = word_tokenize(text)\n",
    "print(tokens)"
   ]
  },
  {
   "cell_type": "markdown",
   "metadata": {},
   "source": [
    "### 2. How can you perform sentence tokenization using NLTK?"
   ]
  },
  {
   "cell_type": "code",
   "execution_count": 3,
   "metadata": {},
   "outputs": [
    {
     "name": "stdout",
     "output_type": "stream",
     "text": [
      "['Natural Language Processing is fascinating!', 'It involves a lot of interesting concepts.']\n"
     ]
    }
   ],
   "source": [
    "from nltk.tokenize import sent_tokenize\n",
    "\n",
    "text = \"Natural Language Processing is fascinating! It involves a lot of interesting concepts.\"\n",
    "sentences = sent_tokenize(text)\n",
    "print(sentences)"
   ]
  },
  {
   "cell_type": "code",
   "execution_count": 2,
   "metadata": {},
   "outputs": [
    {
     "name": "stdout",
     "output_type": "stream",
     "text": [
      "['I am Anubhav.', 'I am doing data science with Gen AI course.', 'I am Data scientist.', 'I want to become best in my domain.']\n"
     ]
    }
   ],
   "source": [
    "from nltk.tokenize import sent_tokenize\n",
    "\n",
    "corpus= \"I am Anubhav. I am doing data science with Gen AI course. I am Data scientist. I want to become best in my domain.\"\n",
    "\n",
    "print(sent_tokenize(corpus))"
   ]
  },
  {
   "cell_type": "markdown",
   "metadata": {},
   "source": [
    "### 3. How can you remove stopwords from a sentence?"
   ]
  },
  {
   "cell_type": "code",
   "execution_count": 12,
   "metadata": {},
   "outputs": [
    {
     "name": "stdout",
     "output_type": "stream",
     "text": [
      "['quick', 'brown', 'fox', 'jumps', 'lazy', 'dog', 'sun', 'shines', 'brightly', 'sky']\n"
     ]
    },
    {
     "name": "stderr",
     "output_type": "stream",
     "text": [
      "[nltk_data] Downloading package stopwords to\n",
      "[nltk_data]     C:\\Users\\anubh\\AppData\\Roaming\\nltk_data...\n",
      "[nltk_data]   Package stopwords is already up-to-date!\n"
     ]
    }
   ],
   "source": [
    "from nltk.corpus import stopwords\n",
    "nltk.download('stopwords')\n",
    "\n",
    "sentence= \"The quick brown fox jumps over the lazy dog while the sun shines brightly in the sky\"\n",
    "stop_words= set(stopwords.words('english'))\n",
    "\n",
    "filter_sentence= [word for word in word_tokenize(sentence) if word.lower() not in stop_words]\n",
    "\n",
    "print(filter_sentence)\n"
   ]
  },
  {
   "cell_type": "code",
   "execution_count": 14,
   "metadata": {},
   "outputs": [
    {
     "name": "stdout",
     "output_type": "stream",
     "text": [
      "['i', 'me', 'my', 'myself', 'we', 'our', 'ours', 'ourselves', 'you', \"you're\", \"you've\", \"you'll\", \"you'd\", 'your', 'yours', 'yourself', 'yourselves', 'he', 'him', 'his', 'himself', 'she', \"she's\", 'her', 'hers', 'herself', 'it', \"it's\", 'its', 'itself', 'they', 'them', 'their', 'theirs', 'themselves', 'what', 'which', 'who', 'whom', 'this', 'that', \"that'll\", 'these', 'those', 'am', 'is', 'are', 'was', 'were', 'be', 'been', 'being', 'have', 'has', 'had', 'having', 'do', 'does', 'did', 'doing', 'a', 'an', 'the', 'and', 'but', 'if', 'or', 'because', 'as', 'until', 'while', 'of', 'at', 'by', 'for', 'with', 'about', 'against', 'between', 'into', 'through', 'during', 'before', 'after', 'above', 'below', 'to', 'from', 'up', 'down', 'in', 'out', 'on', 'off', 'over', 'under', 'again', 'further', 'then', 'once', 'here', 'there', 'when', 'where', 'why', 'how', 'all', 'any', 'both', 'each', 'few', 'more', 'most', 'other', 'some', 'such', 'no', 'nor', 'not', 'only', 'own', 'same', 'so', 'than', 'too', 'very', 's', 't', 'can', 'will', 'just', 'don', \"don't\", 'should', \"should've\", 'now', 'd', 'll', 'm', 'o', 're', 've', 'y', 'ain', 'aren', \"aren't\", 'couldn', \"couldn't\", 'didn', \"didn't\", 'doesn', \"doesn't\", 'hadn', \"hadn't\", 'hasn', \"hasn't\", 'haven', \"haven't\", 'isn', \"isn't\", 'ma', 'mightn', \"mightn't\", 'mustn', \"mustn't\", 'needn', \"needn't\", 'shan', \"shan't\", 'shouldn', \"shouldn't\", 'wasn', \"wasn't\", 'weren', \"weren't\", 'won', \"won't\", 'wouldn', \"wouldn't\"]\n"
     ]
    }
   ],
   "source": [
    "print(stopwords.words('english'))"
   ]
  },
  {
   "cell_type": "markdown",
   "metadata": {},
   "source": [
    "### 4. How can you perform stemming on a word?"
   ]
  },
  {
   "cell_type": "code",
   "execution_count": null,
   "metadata": {},
   "outputs": [],
   "source": [
    "from nltk.stem import PorterStemmer\n",
    "\n",
    "stemmer = PorterStemmer()\n",
    "words = [\"running\", \"runs\", \"easily\", \"faster\"]\n",
    "stemmed_words = [stemmer.stem(word) for word in words]\n",
    "print(stemmed_words)"
   ]
  },
  {
   "cell_type": "code",
   "execution_count": 19,
   "metadata": {},
   "outputs": [
    {
     "name": "stdout",
     "output_type": "stream",
     "text": [
      "['act', 'play', 'actor', 'actuat']\n"
     ]
    }
   ],
   "source": [
    "from nltk.stem import PorterStemmer\n",
    "\n",
    "stemmer=PorterStemmer()\n",
    "\n",
    "words=[\"acting\",\"playing\",\"actor\",\"actuator\"]\n",
    "stemm_words= [stemmer.stem(word) for word in words]\n",
    "print(stemm_words)\n"
   ]
  },
  {
   "cell_type": "code",
   "execution_count": 20,
   "metadata": {},
   "outputs": [
    {
     "name": "stdout",
     "output_type": "stream",
     "text": [
      "act\n"
     ]
    }
   ],
   "source": [
    "word=\"acting\"\n",
    "stemm_words=stemmer.stem(word) \n",
    "print(stemm_words)"
   ]
  },
  {
   "cell_type": "markdown",
   "metadata": {},
   "source": [
    "### 5. How can you perform lemmatization on a word?"
   ]
  },
  {
   "cell_type": "code",
   "execution_count": 21,
   "metadata": {},
   "outputs": [
    {
     "name": "stderr",
     "output_type": "stream",
     "text": [
      "[nltk_data] Downloading package wordnet to\n",
      "[nltk_data]     C:\\Users\\anubh\\AppData\\Roaming\\nltk_data...\n"
     ]
    },
    {
     "name": "stdout",
     "output_type": "stream",
     "text": [
      "acting\n"
     ]
    }
   ],
   "source": [
    "from nltk.stem import WordNetLemmatizer\n",
    "nltk.download('wordnet')\n",
    "\n",
    "lemmatizer= WordNetLemmatizer()\n",
    "\n",
    "word=\"acting\"\n",
    "lemm_word= lemmatizer.lemmatize(word)\n",
    "print(lemm_word)"
   ]
  },
  {
   "cell_type": "code",
   "execution_count": 24,
   "metadata": {},
   "outputs": [
    {
     "name": "stdout",
     "output_type": "stream",
     "text": [
      "['running', 'fly', 'better']\n"
     ]
    }
   ],
   "source": [
    "words = [\"running\", \"flies\", \"better\"]\n",
    "lemm_words= [lemmatizer.lemmatize(word) for word in words]\n",
    "print(lemm_words)"
   ]
  },
  {
   "cell_type": "markdown",
   "metadata": {},
   "source": [
    "### 6. How can you normalize a text by converting it to lowercase and removing punctuation?"
   ]
  },
  {
   "cell_type": "code",
   "execution_count": 25,
   "metadata": {},
   "outputs": [
    {
     "name": "stdout",
     "output_type": "stream",
     "text": [
      "hello mentors thank you for this amazing course\n"
     ]
    }
   ],
   "source": [
    "import string\n",
    "\n",
    "text=\"Hello Mentors, Thank You For This Amazing Course\"\n",
    "norm_text= text.lower().translate(str.maketrans('','',string.punctuation))\n",
    "print(norm_text)\n"
   ]
  },
  {
   "cell_type": "markdown",
   "metadata": {},
   "source": [
    "### 7. How can you create a co-occurrence matrix for words in a corpus?"
   ]
  },
  {
   "cell_type": "code",
   "execution_count": 27,
   "metadata": {},
   "outputs": [
    {
     "name": "stdout",
     "output_type": "stream",
     "text": [
      "[[2 1 0 1 1 1 1 0 0 0 1 0 1 0]\n",
      " [1 1 0 0 0 0 0 0 0 0 0 0 0 0]\n",
      " [0 0 1 0 0 0 0 1 0 1 1 0 0 1]\n",
      " [1 0 0 2 1 2 1 1 1 0 2 1 2 1]\n",
      " [1 0 0 1 1 1 1 0 0 0 1 0 1 0]\n",
      " [1 0 0 2 1 2 1 1 1 0 2 1 2 1]\n",
      " [1 0 0 1 1 1 1 0 0 0 1 0 1 0]\n",
      " [0 0 1 1 0 1 0 2 1 1 2 1 1 2]\n",
      " [0 0 0 1 0 1 0 1 1 0 1 1 1 1]\n",
      " [0 0 1 0 0 0 0 1 0 1 1 0 0 1]\n",
      " [1 0 1 2 1 2 1 2 1 1 3 1 2 2]\n",
      " [0 0 0 1 0 1 0 1 1 0 1 1 1 1]\n",
      " [1 0 0 2 1 2 1 1 1 0 2 1 2 1]\n",
      " [0 0 1 1 0 1 0 2 1 1 2 1 1 2]]\n"
     ]
    }
   ],
   "source": [
    "from sklearn.feature_extraction.text import CountVectorizer\n",
    "\n",
    "corpus= [\n",
    "    \"I am Anubhav\",\n",
    "    \"I am doing data science course at PW\",\n",
    "    \"PW mentors are very Good\",\n",
    "    \"Data Science at PW is really very Good\"\n",
    "]\n",
    "\n",
    "vectorize=CountVectorizer()\n",
    "X=vectorize.fit_transform(corpus)\n",
    "co_occurrence_matrix=(X.T*X).toarray()\n",
    "print(co_occurrence_matrix)\n",
    "\n"
   ]
  },
  {
   "cell_type": "markdown",
   "metadata": {},
   "source": [
    "### 8. How can you apply a regular expression to extract all email addresses from a text?"
   ]
  },
  {
   "cell_type": "code",
   "execution_count": 32,
   "metadata": {},
   "outputs": [
    {
     "name": "stdout",
     "output_type": "stream",
     "text": [
      "Extracted Email Addresses: ['anubhav96022@gmail.com', 'anubhav.tripathi@research.iiit.ac.in']\n"
     ]
    }
   ],
   "source": [
    "import re\n",
    "\n",
    "text = \"Please contact us at anubhav96022@gmail.com or anubhav.tripathi@research.iiit.ac.in for more information.\"\n",
    " \n",
    "email_pattern=r'\\b[A-Za-z0-9._%+-]+@[A-Za-z0-9.-]+\\.[A-Z|a-z]{2,}\\b'\n",
    "emails = re.findall(email_pattern, text)\n",
    "\n",
    "print(\"Extracted Email Addresses:\", emails)\n"
   ]
  },
  {
   "cell_type": "markdown",
   "metadata": {},
   "source": [
    "### 9. How can you perform word embedding using Word2Vec?"
   ]
  },
  {
   "cell_type": "code",
   "execution_count": 33,
   "metadata": {},
   "outputs": [
    {
     "name": "stdout",
     "output_type": "stream",
     "text": [
      "[-0.00536227  0.00236431  0.0510335   0.09009273 -0.0930295  -0.07116809\n",
      "  0.06458873  0.08972988 -0.05015428 -0.03763372]\n"
     ]
    }
   ],
   "source": [
    "from gensim.models import Word2Vec\n",
    "\n",
    "sentences = [\n",
    "    [\"I\", \"love\", \"NLP\"],\n",
    "    [\"NLP\", \"is\", \"fun\"],\n",
    "    [\"I\", \"love\", \"Python\"]\n",
    "]\n",
    "\n",
    "model = Word2Vec(sentences, vector_size=10, window=2, min_count=1, workers=4)\n",
    "print(model.wv['NLP'])"
   ]
  },
  {
   "cell_type": "markdown",
   "metadata": {},
   "source": [
    "### 10. How can you find the similarity between two sentences using cosine similarity?"
   ]
  },
  {
   "cell_type": "code",
   "execution_count": 34,
   "metadata": {},
   "outputs": [
    {
     "name": "stdout",
     "output_type": "stream",
     "text": [
      "[[0.26055567]]\n"
     ]
    }
   ],
   "source": [
    "from sklearn.feature_extraction.text import TfidfVectorizer\n",
    "from sklearn.metrics.pairwise import cosine_similarity\n",
    "\n",
    "sentences = [\"I love NLP\", \"NLP is amazing\"]\n",
    "vectorizer = TfidfVectorizer()\n",
    "tfidf_matrix = vectorizer.fit_transform(sentences)\n",
    "similarity = cosine_similarity(tfidf_matrix[0:1], tfidf_matrix[1:2])\n",
    "print(similarity)"
   ]
  },
  {
   "cell_type": "markdown",
   "metadata": {},
   "source": [
    "### 11. How can you perform part-of-speech tagging?"
   ]
  },
  {
   "cell_type": "code",
   "execution_count": 38,
   "metadata": {},
   "outputs": [
    {
     "name": "stdout",
     "output_type": "stream",
     "text": [
      "[('I', 'PRP'), ('am', 'VBP'), ('Anubhav', 'NNP'), ('.', '.'), ('I', 'PRP'), ('study', 'VBP'), ('Data', 'NNS'), ('Science', 'NNP')]\n"
     ]
    },
    {
     "name": "stderr",
     "output_type": "stream",
     "text": [
      "[nltk_data] Downloading package averaged_perceptron_tagger to\n",
      "[nltk_data]     C:\\Users\\anubh\\AppData\\Roaming\\nltk_data...\n",
      "[nltk_data]   Package averaged_perceptron_tagger is already up-to-\n",
      "[nltk_data]       date!\n"
     ]
    }
   ],
   "source": [
    "from nltk import *\n",
    "nltk.download('averaged_perceptron_tagger')\n",
    "\n",
    "sentence=\"I am Anubhav. I study Data Science\"\n",
    "words=nltk.word_tokenize(sentence)\n",
    "pos_tag=nltk.pos_tag(words)\n",
    "print(pos_tag)"
   ]
  },
  {
   "cell_type": "markdown",
   "metadata": {},
   "source": [
    "### 12. How can you find the similarity between two sentences using cosine similarity?"
   ]
  },
  {
   "cell_type": "code",
   "execution_count": 39,
   "metadata": {},
   "outputs": [
    {
     "name": "stdout",
     "output_type": "stream",
     "text": [
      "Cosine Similarity: 0.5101490193104813\n"
     ]
    }
   ],
   "source": [
    "from sklearn.feature_extraction.text import TfidfVectorizer\n",
    "from sklearn.metrics.pairwise import cosine_similarity\n",
    "\n",
    "sentence1 = \"I love Natural Language Processing\"\n",
    "sentence2 = \"Natural Language Processing is amazing\"\n",
    "\n",
    "vectorizer = TfidfVectorizer()\n",
    "tfidf_matrix = vectorizer.fit_transform([sentence1, sentence2])\n",
    "\n",
    "# Compute cosine similarity\n",
    "similarity = cosine_similarity(tfidf_matrix[0:1], tfidf_matrix[1:2])\n",
    "\n",
    "print(\"Cosine Similarity:\", similarity[0][0])\n"
   ]
  },
  {
   "cell_type": "markdown",
   "metadata": {},
   "source": [
    "### 13. How can you extract named entities from a sentence?"
   ]
  },
  {
   "cell_type": "code",
   "execution_count": 40,
   "metadata": {},
   "outputs": [
    {
     "name": "stderr",
     "output_type": "stream",
     "text": [
      "[nltk_data] Downloading package maxent_ne_chunker to\n",
      "[nltk_data]     C:\\Users\\anubh\\AppData\\Roaming\\nltk_data...\n",
      "[nltk_data]   Unzipping chunkers\\maxent_ne_chunker.zip.\n",
      "[nltk_data] Downloading package words to\n",
      "[nltk_data]     C:\\Users\\anubh\\AppData\\Roaming\\nltk_data...\n",
      "[nltk_data]   Package words is already up-to-date!\n"
     ]
    },
    {
     "name": "stdout",
     "output_type": "stream",
     "text": [
      "Named Entities:\n",
      "(S\n",
      "  (PERSON Anubhav/NNP)\n",
      "  Was/NNP\n",
      "  born/VBN\n",
      "  in/IN\n",
      "  (GPE Sultanpur/NNP)\n",
      "  in/IN\n",
      "  2001/CD)\n"
     ]
    }
   ],
   "source": [
    "nltk.download('maxent_ne_chunker')\n",
    "nltk.download('words')\n",
    "\n",
    "text=\"Anubhav Was born in Sultanpur in 2001\"\n",
    "\n",
    "words=nltk.word_tokenize(text)\n",
    "\n",
    "pos_tags= nltk.pos_tag(words)\n",
    "\n",
    "named_entities=nltk.ne_chunk(pos_tags)\n",
    "\n",
    "print(\"Named Entities:\")\n",
    "print(named_entities)"
   ]
  },
  {
   "cell_type": "markdown",
   "metadata": {},
   "source": [
    "### 14. How can you split a large document into smaller chunks of text?"
   ]
  },
  {
   "cell_type": "code",
   "execution_count": 42,
   "metadata": {},
   "outputs": [
    {
     "name": "stdout",
     "output_type": "stream",
     "text": [
      "Chunk 1:\n",
      "Natural Language Processing is a fascinating field. It has applications in chatbots, sentiment analysis, and machine translation.\n",
      "\n",
      "Chunk 2:\n",
      "Splitting large documents into smaller chunks is often necessary for processing. This is especially useful when dealing with models that have input size limits.\n",
      "\n"
     ]
    }
   ],
   "source": [
    "large_text = \"\"\"Natural Language Processing is a fascinating field. It has applications in chatbots, sentiment analysis, and machine translation. \n",
    "Splitting large documents into smaller chunks is often necessary for processing. This is especially useful when dealing with models that have input size limits.\"\"\"\n",
    "\n",
    " \n",
    "sentences = nltk.sent_tokenize(large_text)\n",
    "\n",
    " \n",
    "chunk_size = 2\n",
    "\n",
    " \n",
    "chunks = [sentences[i:i + chunk_size] for i in range(0, len(sentences), chunk_size)]\n",
    " \n",
    "chunks = [' '.join(chunk) for chunk in chunks]\n",
    " \n",
    "for i, chunk in enumerate(chunks):\n",
    "    print(f\"Chunk {i + 1}:\\n{chunk}\\n\")\n"
   ]
  },
  {
   "cell_type": "markdown",
   "metadata": {},
   "source": [
    "### 15. How can you calculate the TF-IDF (Term Frequency - Inverse Document Frequency) for a set of documents?"
   ]
  },
  {
   "cell_type": "code",
   "execution_count": 43,
   "metadata": {},
   "outputs": [
    {
     "name": "stdout",
     "output_type": "stream",
     "text": [
      "TF-IDF Scores:\n",
      "Document 1:\n",
      "  language: 0.5000\n",
      "  love: 0.5000\n",
      "  natural: 0.5000\n",
      "  processing: 0.5000\n",
      "Document 2:\n",
      "  amazing: 0.5174\n",
      "  is: 0.5174\n",
      "  language: 0.3935\n",
      "  natural: 0.3935\n",
      "  processing: 0.3935\n",
      "Document 3:\n",
      "  and: 0.4674\n",
      "  learning: 0.4674\n",
      "  love: 0.3554\n",
      "  machine: 0.4674\n",
      "  programming: 0.4674\n"
     ]
    }
   ],
   "source": [
    "from sklearn.feature_extraction.text import TfidfVectorizer\n",
    "\n",
    "# Sample documents\n",
    "documents = [\n",
    "    \"I love Natural Language Processing.\",\n",
    "    \"Natural Language Processing is amazing.\",\n",
    "    \"I love programming and machine learning.\"\n",
    "]\n",
    " \n",
    "vectorizer = TfidfVectorizer()\n",
    " \n",
    "tfidf_matrix = vectorizer.fit_transform(documents)\n",
    "\n",
    " \n",
    "feature_names = vectorizer.get_feature_names_out()\n",
    " \n",
    "tfidf_dense = tfidf_matrix.toarray()\n",
    " \n",
    "print(\"TF-IDF Scores:\")\n",
    "for i, doc in enumerate(tfidf_dense):\n",
    "    print(f\"Document {i + 1}:\")\n",
    "    for j, score in enumerate(doc):\n",
    "        if score > 0:\n",
    "            print(f\"  {feature_names[j]}: {score:.4f}\")\n"
   ]
  },
  {
   "cell_type": "markdown",
   "metadata": {},
   "source": [
    "### 16. How can you apply tokenization, stopword removal, and stemming in one go?"
   ]
  },
  {
   "cell_type": "code",
   "execution_count": 44,
   "metadata": {},
   "outputs": [
    {
     "name": "stdout",
     "output_type": "stream",
     "text": [
      "Processed Tokens: ['simpl', 'exampl', 'demonstr', 'token', ',', 'stopword', 'remov', ',', 'stem', '.']\n"
     ]
    },
    {
     "name": "stderr",
     "output_type": "stream",
     "text": [
      "[nltk_data] Downloading package punkt to\n",
      "[nltk_data]     C:\\Users\\anubh\\AppData\\Roaming\\nltk_data...\n",
      "[nltk_data]   Package punkt is already up-to-date!\n",
      "[nltk_data] Downloading package stopwords to\n",
      "[nltk_data]     C:\\Users\\anubh\\AppData\\Roaming\\nltk_data...\n",
      "[nltk_data]   Package stopwords is already up-to-date!\n"
     ]
    }
   ],
   "source": [
    "import nltk\n",
    "from nltk.tokenize import word_tokenize\n",
    "from nltk.corpus import stopwords\n",
    "from nltk.stem import PorterStemmer\n",
    " \n",
    "nltk.download('punkt')\n",
    "nltk.download('stopwords')\n",
    "\n",
    " \n",
    "text = \"This is a simple example demonstrating tokenization, stopword removal, and stemming.\"\n",
    "\n",
    " \n",
    "stop_words = set(stopwords.words('english'))\n",
    "stemmer = PorterStemmer()\n",
    " \n",
    "tokens = word_tokenize(text)\n",
    " \n",
    "processed_tokens = [stemmer.stem(word) for word in tokens if word.lower() not in stop_words]\n",
    "\n",
    "print(\"Processed Tokens:\", processed_tokens)\n"
   ]
  },
  {
   "cell_type": "markdown",
   "metadata": {},
   "source": [
    "### 17. How can you visualize the frequency distribution of words in a sentence?"
   ]
  },
  {
   "cell_type": "code",
   "execution_count": 45,
   "metadata": {},
   "outputs": [
    {
     "name": "stderr",
     "output_type": "stream",
     "text": [
      "[nltk_data] Downloading package punkt to\n",
      "[nltk_data]     C:\\Users\\anubh\\AppData\\Roaming\\nltk_data...\n",
      "[nltk_data]   Package punkt is already up-to-date!\n"
     ]
    },
    {
     "name": "stdout",
     "output_type": "stream",
     "text": [
      "Frequency Distribution:\n",
      "This: 1\n",
      "is: 1\n",
      "an: 1\n",
      "example: 1\n",
      "sentence: 2\n",
      "to: 1\n",
      "demonstrate: 1\n",
      "the: 1\n",
      "frequency: 1\n",
      "distribution: 1\n",
      "of: 1\n",
      "words: 1\n",
      "in: 1\n",
      "a: 1\n",
      ".: 1\n"
     ]
    },
    {
     "data": {
      "image/png": "[encoded data removed]",
      "text/plain": [
       "<Figure size 1000x600 with 1 Axes>"
      ]
     },
     "metadata": {},
     "output_type": "display_data"
    }
   ],
   "source": [
    "import nltk\n",
    "from nltk.tokenize import word_tokenize\n",
    "from nltk.probability import FreqDist\n",
    "import matplotlib.pyplot as plt\n",
    "\n",
    " \n",
    "nltk.download('punkt')\n",
    " \n",
    "text = \"This is an example sentence to demonstrate the frequency distribution of words in a sentence.\"\n",
    "\n",
    " \n",
    "tokens = word_tokenize(text)\n",
    " \n",
    "freq_dist = FreqDist(tokens)\n",
    " \n",
    "print(\"Frequency Distribution:\")\n",
    "for word, freq in freq_dist.items():\n",
    "    print(f\"{word}: {freq}\")\n",
    "\n",
    "plt.figure(figsize=(10, 6))\n",
    "freq_dist.plot(10, title=\"Word Frequency Distribution\")\n",
    "plt.show()\n"
   ]
  }
 ],
 "metadata": {
  "kernelspec": {
   "display_name": "base",
   "language": "python",
   "name": "python3"
  },
  "language_info": {
   "codemirror_mode": {
    "name": "ipython",
    "version": 3
   },
   "file_extension": ".py",
   "mimetype": "text/x-python",
   "name": "python",
   "nbconvert_exporter": "python",
   "pygments_lexer": "ipython3",
   "version": "3.11.4"
  }
 },
 "nbformat": 4,
 "nbformat_minor": 2
}
